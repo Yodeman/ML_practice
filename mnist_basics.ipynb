{
  "nbformat": 4,
  "nbformat_minor": 0,
  "metadata": {
    "colab": {
      "name": "mnist_basics.ipynb",
      "provenance": [],
      "collapsed_sections": [],
      "authorship_tag": "ABX9TyPMo/SsN4XgEeJLI6Q50J/6",
      "include_colab_link": true
    },
    "kernelspec": {
      "name": "python3",
      "display_name": "Python 3"
    }
  },
  "cells": [
    {
      "cell_type": "markdown",
      "metadata": {
        "id": "view-in-github",
        "colab_type": "text"
      },
      "source": [
        "<a href=\"https://colab.research.google.com/github/Yodeman/ML_practice/blob/master/mnist_basics.ipynb\" target=\"_parent\"><img src=\"https://colab.research.google.com/assets/colab-badge.svg\" alt=\"Open In Colab\"/></a>"
      ]
    },
    {
      "cell_type": "code",
      "metadata": {
        "colab": {
          "base_uri": "https://localhost:8080/"
        },
        "id": "S7pGgbdjXiSY",
        "outputId": "2360ac15-584f-49e4-88ec-2f2282d126a8"
      },
      "source": [
        "!pip install -Uqq fastbook\r\n",
        "import fastbook\r\n",
        "fastbook.setup_book()"
      ],
      "execution_count": 1,
      "outputs": [
        {
          "output_type": "stream",
          "text": [
            "\u001b[K     |████████████████████████████████| 727kB 5.6MB/s \n",
            "\u001b[K     |████████████████████████████████| 51kB 4.6MB/s \n",
            "\u001b[K     |████████████████████████████████| 194kB 24.5MB/s \n",
            "\u001b[K     |████████████████████████████████| 1.2MB 42.3MB/s \n",
            "\u001b[K     |████████████████████████████████| 61kB 7.0MB/s \n",
            "\u001b[?25hMounted at /content/gdrive\n"
          ],
          "name": "stdout"
        }
      ]
    },
    {
      "cell_type": "code",
      "metadata": {
        "id": "BMBvEbuCYcJh"
      },
      "source": [
        "from fastai.vision import *\r\n",
        "from fastbook import *\r\n",
        "\r\n",
        "matplotlib.rc('image', cmap='Greys')"
      ],
      "execution_count": 2,
      "outputs": []
    },
    {
      "cell_type": "code",
      "metadata": {
        "colab": {
          "base_uri": "https://localhost:8080/",
          "height": 17
        },
        "id": "7Dgj6JJcal-9",
        "outputId": "2d38fe15-cc17-4fa2-9c0c-5e3aa953200d"
      },
      "source": [
        "path = untar_data(URLs.MNIST_SAMPLE)"
      ],
      "execution_count": 3,
      "outputs": [
        {
          "output_type": "display_data",
          "data": {
            "text/html": [
              ""
            ],
            "text/plain": [
              "<IPython.core.display.HTML object>"
            ]
          },
          "metadata": {
            "tags": []
          }
        }
      ]
    },
    {
      "cell_type": "code",
      "metadata": {
        "id": "XFhgy_6EcpVq"
      },
      "source": [
        "Path.BASE_PATH = path"
      ],
      "execution_count": 4,
      "outputs": []
    },
    {
      "cell_type": "code",
      "metadata": {
        "colab": {
          "base_uri": "https://localhost:8080/"
        },
        "id": "jbp86u6bc1B9",
        "outputId": "4b03ad70-bb43-47d3-af3c-c8f6fa9197a3"
      },
      "source": [
        "path.ls()"
      ],
      "execution_count": 15,
      "outputs": [
        {
          "output_type": "execute_result",
          "data": {
            "text/plain": [
              "(#3) [Path('valid'),Path('train'),Path('labels.csv')]"
            ]
          },
          "metadata": {
            "tags": []
          },
          "execution_count": 15
        }
      ]
    },
    {
      "cell_type": "code",
      "metadata": {
        "colab": {
          "base_uri": "https://localhost:8080/"
        },
        "id": "lhbcX9Hsc7t6",
        "outputId": "7ce50431-20c0-4e1c-eb68-d813dc5056b0"
      },
      "source": [
        "(path/'train').ls()"
      ],
      "execution_count": 17,
      "outputs": [
        {
          "output_type": "execute_result",
          "data": {
            "text/plain": [
              "(#2) [Path('train/7'),Path('train/3')]"
            ]
          },
          "metadata": {
            "tags": []
          },
          "execution_count": 17
        }
      ]
    },
    {
      "cell_type": "code",
      "metadata": {
        "colab": {
          "base_uri": "https://localhost:8080/"
        },
        "id": "kha8WH8IdWJ_",
        "outputId": "9ac6b017-62d7-426b-b9ec-a8f3e998737f"
      },
      "source": [
        "threes = (path/'train'/'3').ls().sorted()\r\n",
        "sevens = (path/'train'/'7').ls().sorted()\r\n",
        "threes"
      ],
      "execution_count": 5,
      "outputs": [
        {
          "output_type": "execute_result",
          "data": {
            "text/plain": [
              "(#6131) [Path('train/3/10.png'),Path('train/3/10000.png'),Path('train/3/10011.png'),Path('train/3/10031.png'),Path('train/3/10034.png'),Path('train/3/10042.png'),Path('train/3/10052.png'),Path('train/3/1007.png'),Path('train/3/10074.png'),Path('train/3/10091.png')...]"
            ]
          },
          "metadata": {
            "tags": []
          },
          "execution_count": 5
        }
      ]
    },
    {
      "cell_type": "code",
      "metadata": {
        "colab": {
          "base_uri": "https://localhost:8080/",
          "height": 45
        },
        "id": "sHhpKEBpdvxb",
        "outputId": "a009b0b5-a167-4653-a660-fac2f37119f0"
      },
      "source": [
        "im3_path = threes[1]\r\n",
        "im3 = Image.open(im3_path)\r\n",
        "im3"
      ],
      "execution_count": 19,
      "outputs": [
        {
          "output_type": "execute_result",
          "data": {
            "image/png": "[encoded data removed]",
            "text/plain": [
              "<PIL.PngImagePlugin.PngImageFile image mode=L size=28x28 at 0x7FA8FE6DAEB8>"
            ]
          },
          "metadata": {
            "tags": []
          },
          "execution_count": 19
        }
      ]
    },
    {
      "cell_type": "code",
      "metadata": {
        "colab": {
          "base_uri": "https://localhost:8080/"
        },
        "id": "miMpJT1Zd_hS",
        "outputId": "3882546d-ebef-4c7e-c5f7-8f2e1af053fc"
      },
      "source": [
        "tensor(im3)[4:10, 4:10]"
      ],
      "execution_count": 20,
      "outputs": [
        {
          "output_type": "execute_result",
          "data": {
            "text/plain": [
              "tensor([[  0,   0,   0,   0,   0,   0],\n",
              "        [  0,   0,   0,   0,   0,  29],\n",
              "        [  0,   0,   0,  48, 166, 224],\n",
              "        [  0,  93, 244, 249, 253, 187],\n",
              "        [  0, 107, 253, 253, 230,  48],\n",
              "        [  0,   3,  20,  20,  15,   0]], dtype=torch.uint8)"
            ]
          },
          "metadata": {
            "tags": []
          },
          "execution_count": 20
        }
      ]
    },
    {
      "cell_type": "code",
      "metadata": {
        "colab": {
          "base_uri": "https://localhost:8080/",
          "height": 228
        },
        "id": "mYrNLNmYeX6B",
        "outputId": "c743c91b-933f-4def-edb8-dcb000d517a3"
      },
      "source": [
        "im3_t = tensor(im3)\r\n",
        "df = pd.DataFrame(im3_t[4:15, 4:22])\r\n",
        "df.style.set_properties(**{'font-size':'6pt'}).background_gradient('Greys')"
      ],
      "execution_count": 21,
      "outputs": [
        {
          "output_type": "execute_result",
          "data": {
            "text/html": [
              "<style  type=\"text/css\" >\n",
              "#T_67360cda_63e9_11eb_b427_0242ac1c0002row0_col0,#T_67360cda_63e9_11eb_b427_0242ac1c0002row0_col1,#T_67360cda_63e9_11eb_b427_0242ac1c0002row0_col2,#T_67360cda_63e9_11eb_b427_0242ac1c0002row0_col3,#T_67360cda_63e9_11eb_b427_0242ac1c0002row0_col4,#T_67360cda_63e9_11eb_b427_0242ac1c0002row0_col5,#T_67360cda_63e9_11eb_b427_0242ac1c0002row0_col6,#T_67360cda_63e9_11eb_b427_0242ac1c0002row0_col7,#T_67360cda_63e9_11eb_b427_0242ac1c0002row0_col8,#T_67360cda_63e9_11eb_b427_0242ac1c0002row0_col9,#T_67360cda_63e9_11eb_b427_0242ac1c0002row0_col10,#T_67360cda_63e9_11eb_b427_0242ac1c0002row0_col11,#T_67360cda_63e9_11eb_b427_0242ac1c0002row0_col12,#T_67360cda_63e9_11eb_b427_0242ac1c0002row0_col13,#T_67360cda_63e9_11eb_b427_0242ac1c0002row0_col14,#T_67360cda_63e9_11eb_b427_0242ac1c0002row0_col15,#T_67360cda_63e9_11eb_b427_0242ac1c0002row0_col16,#T_67360cda_63e9_11eb_b427_0242ac1c0002row0_col17,#T_67360cda_63e9_11eb_b427_0242ac1c0002row1_col0,#T_67360cda_63e9_11eb_b427_0242ac1c0002row1_col1,#T_67360cda_63e9_11eb_b427_0242ac1c0002row1_col2,#T_67360cda_63e9_11eb_b427_0242ac1c0002row1_col3,#T_67360cda_63e9_11eb_b427_0242ac1c0002row1_col4,#T_67360cda_63e9_11eb_b427_0242ac1c0002row1_col15,#T_67360cda_63e9_11eb_b427_0242ac1c0002row1_col16,#T_67360cda_63e9_11eb_b427_0242ac1c0002row1_col17,#T_67360cda_63e9_11eb_b427_0242ac1c0002row2_col0,#T_67360cda_63e9_11eb_b427_0242ac1c0002row2_col1,#T_67360cda_63e9_11eb_b427_0242ac1c0002row2_col2,#T_67360cda_63e9_11eb_b427_0242ac1c0002row2_col15,#T_67360cda_63e9_11eb_b427_0242ac1c0002row2_col16,#T_67360cda_63e9_11eb_b427_0242ac1c0002row2_col17,#T_67360cda_63e9_11eb_b427_0242ac1c0002row3_col0,#T_67360cda_63e9_11eb_b427_0242ac1c0002row3_col15,#T_67360cda_63e9_11eb_b427_0242ac1c0002row3_col16,#T_67360cda_63e9_11eb_b427_0242ac1c0002row3_col17,#T_67360cda_63e9_11eb_b427_0242ac1c0002row4_col0,#T_67360cda_63e9_11eb_b427_0242ac1c0002row4_col6,#T_67360cda_63e9_11eb_b427_0242ac1c0002row4_col7,#T_67360cda_63e9_11eb_b427_0242ac1c0002row4_col8,#T_67360cda_63e9_11eb_b427_0242ac1c0002row4_col9,#T_67360cda_63e9_11eb_b427_0242ac1c0002row4_col10,#T_67360cda_63e9_11eb_b427_0242ac1c0002row4_col15,#T_67360cda_63e9_11eb_b427_0242ac1c0002row4_col16,#T_67360cda_63e9_11eb_b427_0242ac1c0002row4_col17,#T_67360cda_63e9_11eb_b427_0242ac1c0002row5_col0,#T_67360cda_63e9_11eb_b427_0242ac1c0002row5_col5,#T_67360cda_63e9_11eb_b427_0242ac1c0002row5_col6,#T_67360cda_63e9_11eb_b427_0242ac1c0002row5_col7,#T_67360cda_63e9_11eb_b427_0242ac1c0002row5_col8,#T_67360cda_63e9_11eb_b427_0242ac1c0002row5_col9,#T_67360cda_63e9_11eb_b427_0242ac1c0002row5_col15,#T_67360cda_63e9_11eb_b427_0242ac1c0002row5_col16,#T_67360cda_63e9_11eb_b427_0242ac1c0002row5_col17,#T_67360cda_63e9_11eb_b427_0242ac1c0002row6_col0,#T_67360cda_63e9_11eb_b427_0242ac1c0002row6_col1,#T_67360cda_63e9_11eb_b427_0242ac1c0002row6_col2,#T_67360cda_63e9_11eb_b427_0242ac1c0002row6_col3,#T_67360cda_63e9_11eb_b427_0242ac1c0002row6_col4,#T_67360cda_63e9_11eb_b427_0242ac1c0002row6_col5,#T_67360cda_63e9_11eb_b427_0242ac1c0002row6_col6,#T_67360cda_63e9_11eb_b427_0242ac1c0002row6_col7,#T_67360cda_63e9_11eb_b427_0242ac1c0002row6_col8,#T_67360cda_63e9_11eb_b427_0242ac1c0002row6_col9,#T_67360cda_63e9_11eb_b427_0242ac1c0002row6_col14,#T_67360cda_63e9_11eb_b427_0242ac1c0002row6_col15,#T_67360cda_63e9_11eb_b427_0242ac1c0002row6_col16,#T_67360cda_63e9_11eb_b427_0242ac1c0002row6_col17,#T_67360cda_63e9_11eb_b427_0242ac1c0002row7_col0,#T_67360cda_63e9_11eb_b427_0242ac1c0002row7_col1,#T_67360cda_63e9_11eb_b427_0242ac1c0002row7_col2,#T_67360cda_63e9_11eb_b427_0242ac1c0002row7_col3,#T_67360cda_63e9_11eb_b427_0242ac1c0002row7_col4,#T_67360cda_63e9_11eb_b427_0242ac1c0002row7_col5,#T_67360cda_63e9_11eb_b427_0242ac1c0002row7_col6,#T_67360cda_63e9_11eb_b427_0242ac1c0002row7_col13,#T_67360cda_63e9_11eb_b427_0242ac1c0002row7_col14,#T_67360cda_63e9_11eb_b427_0242ac1c0002row7_col15,#T_67360cda_63e9_11eb_b427_0242ac1c0002row7_col16,#T_67360cda_63e9_11eb_b427_0242ac1c0002row7_col17,#T_67360cda_63e9_11eb_b427_0242ac1c0002row8_col0,#T_67360cda_63e9_11eb_b427_0242ac1c0002row8_col1,#T_67360cda_63e9_11eb_b427_0242ac1c0002row8_col2,#T_67360cda_63e9_11eb_b427_0242ac1c0002row8_col3,#T_67360cda_63e9_11eb_b427_0242ac1c0002row8_col4,#T_67360cda_63e9_11eb_b427_0242ac1c0002row8_col13,#T_67360cda_63e9_11eb_b427_0242ac1c0002row8_col14,#T_67360cda_63e9_11eb_b427_0242ac1c0002row8_col15,#T_67360cda_63e9_11eb_b427_0242ac1c0002row8_col16,#T_67360cda_63e9_11eb_b427_0242ac1c0002row8_col17,#T_67360cda_63e9_11eb_b427_0242ac1c0002row9_col0,#T_67360cda_63e9_11eb_b427_0242ac1c0002row9_col1,#T_67360cda_63e9_11eb_b427_0242ac1c0002row9_col2,#T_67360cda_63e9_11eb_b427_0242ac1c0002row9_col3,#T_67360cda_63e9_11eb_b427_0242ac1c0002row9_col4,#T_67360cda_63e9_11eb_b427_0242ac1c0002row9_col16,#T_67360cda_63e9_11eb_b427_0242ac1c0002row9_col17,#T_67360cda_63e9_11eb_b427_0242ac1c0002row10_col0,#T_67360cda_63e9_11eb_b427_0242ac1c0002row10_col1,#T_67360cda_63e9_11eb_b427_0242ac1c0002row10_col2,#T_67360cda_63e9_11eb_b427_0242ac1c0002row10_col3,#T_67360cda_63e9_11eb_b427_0242ac1c0002row10_col4,#T_67360cda_63e9_11eb_b427_0242ac1c0002row10_col5,#T_67360cda_63e9_11eb_b427_0242ac1c0002row10_col6,#T_67360cda_63e9_11eb_b427_0242ac1c0002row10_col17{\n",
              "            font-size:  6pt;\n",
              "            background-color:  #ffffff;\n",
              "            color:  #000000;\n",
              "        }#T_67360cda_63e9_11eb_b427_0242ac1c0002row1_col5{\n",
              "            font-size:  6pt;\n",
              "            background-color:  #efefef;\n",
              "            color:  #000000;\n",
              "        }#T_67360cda_63e9_11eb_b427_0242ac1c0002row1_col6,#T_67360cda_63e9_11eb_b427_0242ac1c0002row1_col13{\n",
              "            font-size:  6pt;\n",
              "            background-color:  #7c7c7c;\n",
              "            color:  #000000;\n",
              "        }#T_67360cda_63e9_11eb_b427_0242ac1c0002row1_col7{\n",
              "            font-size:  6pt;\n",
              "            background-color:  #4a4a4a;\n",
              "            color:  #f1f1f1;\n",
              "        }#T_67360cda_63e9_11eb_b427_0242ac1c0002row1_col8,#T_67360cda_63e9_11eb_b427_0242ac1c0002row1_col9,#T_67360cda_63e9_11eb_b427_0242ac1c0002row1_col10,#T_67360cda_63e9_11eb_b427_0242ac1c0002row2_col5,#T_67360cda_63e9_11eb_b427_0242ac1c0002row2_col6,#T_67360cda_63e9_11eb_b427_0242ac1c0002row2_col7,#T_67360cda_63e9_11eb_b427_0242ac1c0002row2_col11,#T_67360cda_63e9_11eb_b427_0242ac1c0002row2_col12,#T_67360cda_63e9_11eb_b427_0242ac1c0002row2_col13,#T_67360cda_63e9_11eb_b427_0242ac1c0002row3_col4,#T_67360cda_63e9_11eb_b427_0242ac1c0002row3_col12,#T_67360cda_63e9_11eb_b427_0242ac1c0002row3_col13,#T_67360cda_63e9_11eb_b427_0242ac1c0002row4_col1,#T_67360cda_63e9_11eb_b427_0242ac1c0002row4_col2,#T_67360cda_63e9_11eb_b427_0242ac1c0002row4_col3,#T_67360cda_63e9_11eb_b427_0242ac1c0002row4_col12,#T_67360cda_63e9_11eb_b427_0242ac1c0002row4_col13,#T_67360cda_63e9_11eb_b427_0242ac1c0002row5_col12,#T_67360cda_63e9_11eb_b427_0242ac1c0002row6_col11,#T_67360cda_63e9_11eb_b427_0242ac1c0002row9_col11,#T_67360cda_63e9_11eb_b427_0242ac1c0002row10_col11,#T_67360cda_63e9_11eb_b427_0242ac1c0002row10_col12,#T_67360cda_63e9_11eb_b427_0242ac1c0002row10_col13,#T_67360cda_63e9_11eb_b427_0242ac1c0002row10_col14,#T_67360cda_63e9_11eb_b427_0242ac1c0002row10_col15,#T_67360cda_63e9_11eb_b427_0242ac1c0002row10_col16{\n",
              "            font-size:  6pt;\n",
              "            background-color:  #000000;\n",
              "            color:  #f1f1f1;\n",
              "        }#T_67360cda_63e9_11eb_b427_0242ac1c0002row1_col11{\n",
              "            font-size:  6pt;\n",
              "            background-color:  #606060;\n",
              "            color:  #f1f1f1;\n",
              "        }#T_67360cda_63e9_11eb_b427_0242ac1c0002row1_col12{\n",
              "            font-size:  6pt;\n",
              "            background-color:  #4d4d4d;\n",
              "            color:  #f1f1f1;\n",
              "        }#T_67360cda_63e9_11eb_b427_0242ac1c0002row1_col14{\n",
              "            font-size:  6pt;\n",
              "            background-color:  #bbbbbb;\n",
              "            color:  #000000;\n",
              "        }#T_67360cda_63e9_11eb_b427_0242ac1c0002row2_col3{\n",
              "            font-size:  6pt;\n",
              "            background-color:  #e4e4e4;\n",
              "            color:  #000000;\n",
              "        }#T_67360cda_63e9_11eb_b427_0242ac1c0002row2_col4,#T_67360cda_63e9_11eb_b427_0242ac1c0002row8_col6{\n",
              "            font-size:  6pt;\n",
              "            background-color:  #6b6b6b;\n",
              "            color:  #000000;\n",
              "        }#T_67360cda_63e9_11eb_b427_0242ac1c0002row2_col8,#T_67360cda_63e9_11eb_b427_0242ac1c0002row2_col14,#T_67360cda_63e9_11eb_b427_0242ac1c0002row3_col14{\n",
              "            font-size:  6pt;\n",
              "            background-color:  #171717;\n",
              "            color:  #f1f1f1;\n",
              "        }#T_67360cda_63e9_11eb_b427_0242ac1c0002row2_col9,#T_67360cda_63e9_11eb_b427_0242ac1c0002row3_col11{\n",
              "            font-size:  6pt;\n",
              "            background-color:  #4b4b4b;\n",
              "            color:  #f1f1f1;\n",
              "        }#T_67360cda_63e9_11eb_b427_0242ac1c0002row2_col10,#T_67360cda_63e9_11eb_b427_0242ac1c0002row7_col10,#T_67360cda_63e9_11eb_b427_0242ac1c0002row8_col8,#T_67360cda_63e9_11eb_b427_0242ac1c0002row8_col10,#T_67360cda_63e9_11eb_b427_0242ac1c0002row9_col8,#T_67360cda_63e9_11eb_b427_0242ac1c0002row9_col10{\n",
              "            font-size:  6pt;\n",
              "            background-color:  #010101;\n",
              "            color:  #f1f1f1;\n",
              "        }#T_67360cda_63e9_11eb_b427_0242ac1c0002row3_col1{\n",
              "            font-size:  6pt;\n",
              "            background-color:  #272727;\n",
              "            color:  #f1f1f1;\n",
              "        }#T_67360cda_63e9_11eb_b427_0242ac1c0002row3_col2{\n",
              "            font-size:  6pt;\n",
              "            background-color:  #0a0a0a;\n",
              "            color:  #f1f1f1;\n",
              "        }#T_67360cda_63e9_11eb_b427_0242ac1c0002row3_col3{\n",
              "            font-size:  6pt;\n",
              "            background-color:  #050505;\n",
              "            color:  #f1f1f1;\n",
              "        }#T_67360cda_63e9_11eb_b427_0242ac1c0002row3_col5{\n",
              "            font-size:  6pt;\n",
              "            background-color:  #333333;\n",
              "            color:  #f1f1f1;\n",
              "        }#T_67360cda_63e9_11eb_b427_0242ac1c0002row3_col6{\n",
              "            font-size:  6pt;\n",
              "            background-color:  #e6e6e6;\n",
              "            color:  #000000;\n",
              "        }#T_67360cda_63e9_11eb_b427_0242ac1c0002row3_col7,#T_67360cda_63e9_11eb_b427_0242ac1c0002row3_col10{\n",
              "            font-size:  6pt;\n",
              "            background-color:  #fafafa;\n",
              "            color:  #000000;\n",
              "        }#T_67360cda_63e9_11eb_b427_0242ac1c0002row3_col8{\n",
              "            font-size:  6pt;\n",
              "            background-color:  #fbfbfb;\n",
              "            color:  #000000;\n",
              "        }#T_67360cda_63e9_11eb_b427_0242ac1c0002row3_col9{\n",
              "            font-size:  6pt;\n",
              "            background-color:  #fdfdfd;\n",
              "            color:  #000000;\n",
              "        }#T_67360cda_63e9_11eb_b427_0242ac1c0002row4_col4{\n",
              "            font-size:  6pt;\n",
              "            background-color:  #1b1b1b;\n",
              "            color:  #f1f1f1;\n",
              "        }#T_67360cda_63e9_11eb_b427_0242ac1c0002row4_col5{\n",
              "            font-size:  6pt;\n",
              "            background-color:  #e0e0e0;\n",
              "            color:  #000000;\n",
              "        }#T_67360cda_63e9_11eb_b427_0242ac1c0002row4_col11{\n",
              "            font-size:  6pt;\n",
              "            background-color:  #4e4e4e;\n",
              "            color:  #f1f1f1;\n",
              "        }#T_67360cda_63e9_11eb_b427_0242ac1c0002row4_col14{\n",
              "            font-size:  6pt;\n",
              "            background-color:  #767676;\n",
              "            color:  #000000;\n",
              "        }#T_67360cda_63e9_11eb_b427_0242ac1c0002row5_col1{\n",
              "            font-size:  6pt;\n",
              "            background-color:  #fcfcfc;\n",
              "            color:  #000000;\n",
              "        }#T_67360cda_63e9_11eb_b427_0242ac1c0002row5_col2,#T_67360cda_63e9_11eb_b427_0242ac1c0002row5_col3{\n",
              "            font-size:  6pt;\n",
              "            background-color:  #f6f6f6;\n",
              "            color:  #000000;\n",
              "        }#T_67360cda_63e9_11eb_b427_0242ac1c0002row5_col4,#T_67360cda_63e9_11eb_b427_0242ac1c0002row7_col7{\n",
              "            font-size:  6pt;\n",
              "            background-color:  #f8f8f8;\n",
              "            color:  #000000;\n",
              "        }#T_67360cda_63e9_11eb_b427_0242ac1c0002row5_col10,#T_67360cda_63e9_11eb_b427_0242ac1c0002row10_col7{\n",
              "            font-size:  6pt;\n",
              "            background-color:  #e8e8e8;\n",
              "            color:  #000000;\n",
              "        }#T_67360cda_63e9_11eb_b427_0242ac1c0002row5_col11{\n",
              "            font-size:  6pt;\n",
              "            background-color:  #222222;\n",
              "            color:  #f1f1f1;\n",
              "        }#T_67360cda_63e9_11eb_b427_0242ac1c0002row5_col13,#T_67360cda_63e9_11eb_b427_0242ac1c0002row6_col12{\n",
              "            font-size:  6pt;\n",
              "            background-color:  #090909;\n",
              "            color:  #f1f1f1;\n",
              "        }#T_67360cda_63e9_11eb_b427_0242ac1c0002row5_col14{\n",
              "            font-size:  6pt;\n",
              "            background-color:  #d0d0d0;\n",
              "            color:  #000000;\n",
              "        }#T_67360cda_63e9_11eb_b427_0242ac1c0002row6_col10,#T_67360cda_63e9_11eb_b427_0242ac1c0002row7_col11,#T_67360cda_63e9_11eb_b427_0242ac1c0002row9_col6{\n",
              "            font-size:  6pt;\n",
              "            background-color:  #060606;\n",
              "            color:  #f1f1f1;\n",
              "        }#T_67360cda_63e9_11eb_b427_0242ac1c0002row6_col13{\n",
              "            font-size:  6pt;\n",
              "            background-color:  #979797;\n",
              "            color:  #000000;\n",
              "        }#T_67360cda_63e9_11eb_b427_0242ac1c0002row7_col8{\n",
              "            font-size:  6pt;\n",
              "            background-color:  #b6b6b6;\n",
              "            color:  #000000;\n",
              "        }#T_67360cda_63e9_11eb_b427_0242ac1c0002row7_col9{\n",
              "            font-size:  6pt;\n",
              "            background-color:  #252525;\n",
              "            color:  #f1f1f1;\n",
              "        }#T_67360cda_63e9_11eb_b427_0242ac1c0002row7_col12{\n",
              "            font-size:  6pt;\n",
              "            background-color:  #999999;\n",
              "            color:  #000000;\n",
              "        }#T_67360cda_63e9_11eb_b427_0242ac1c0002row8_col5{\n",
              "            font-size:  6pt;\n",
              "            background-color:  #f9f9f9;\n",
              "            color:  #000000;\n",
              "        }#T_67360cda_63e9_11eb_b427_0242ac1c0002row8_col7{\n",
              "            font-size:  6pt;\n",
              "            background-color:  #101010;\n",
              "            color:  #f1f1f1;\n",
              "        }#T_67360cda_63e9_11eb_b427_0242ac1c0002row8_col9,#T_67360cda_63e9_11eb_b427_0242ac1c0002row9_col9{\n",
              "            font-size:  6pt;\n",
              "            background-color:  #020202;\n",
              "            color:  #f1f1f1;\n",
              "        }#T_67360cda_63e9_11eb_b427_0242ac1c0002row8_col11{\n",
              "            font-size:  6pt;\n",
              "            background-color:  #545454;\n",
              "            color:  #f1f1f1;\n",
              "        }#T_67360cda_63e9_11eb_b427_0242ac1c0002row8_col12{\n",
              "            font-size:  6pt;\n",
              "            background-color:  #f1f1f1;\n",
              "            color:  #000000;\n",
              "        }#T_67360cda_63e9_11eb_b427_0242ac1c0002row9_col5{\n",
              "            font-size:  6pt;\n",
              "            background-color:  #f7f7f7;\n",
              "            color:  #000000;\n",
              "        }#T_67360cda_63e9_11eb_b427_0242ac1c0002row9_col7{\n",
              "            font-size:  6pt;\n",
              "            background-color:  #030303;\n",
              "            color:  #f1f1f1;\n",
              "        }#T_67360cda_63e9_11eb_b427_0242ac1c0002row9_col12{\n",
              "            font-size:  6pt;\n",
              "            background-color:  #181818;\n",
              "            color:  #f1f1f1;\n",
              "        }#T_67360cda_63e9_11eb_b427_0242ac1c0002row9_col13{\n",
              "            font-size:  6pt;\n",
              "            background-color:  #303030;\n",
              "            color:  #f1f1f1;\n",
              "        }#T_67360cda_63e9_11eb_b427_0242ac1c0002row9_col14{\n",
              "            font-size:  6pt;\n",
              "            background-color:  #a9a9a9;\n",
              "            color:  #000000;\n",
              "        }#T_67360cda_63e9_11eb_b427_0242ac1c0002row9_col15{\n",
              "            font-size:  6pt;\n",
              "            background-color:  #fefefe;\n",
              "            color:  #000000;\n",
              "        }#T_67360cda_63e9_11eb_b427_0242ac1c0002row10_col8,#T_67360cda_63e9_11eb_b427_0242ac1c0002row10_col9{\n",
              "            font-size:  6pt;\n",
              "            background-color:  #bababa;\n",
              "            color:  #000000;\n",
              "        }#T_67360cda_63e9_11eb_b427_0242ac1c0002row10_col10{\n",
              "            font-size:  6pt;\n",
              "            background-color:  #393939;\n",
              "            color:  #f1f1f1;\n",
              "        }</style><table id=\"T_67360cda_63e9_11eb_b427_0242ac1c0002\" ><thead>    <tr>        <th class=\"blank level0\" ></th>        <th class=\"col_heading level0 col0\" >0</th>        <th class=\"col_heading level0 col1\" >1</th>        <th class=\"col_heading level0 col2\" >2</th>        <th class=\"col_heading level0 col3\" >3</th>        <th class=\"col_heading level0 col4\" >4</th>        <th class=\"col_heading level0 col5\" >5</th>        <th class=\"col_heading level0 col6\" >6</th>        <th class=\"col_heading level0 col7\" >7</th>        <th class=\"col_heading level0 col8\" >8</th>        <th class=\"col_heading level0 col9\" >9</th>        <th class=\"col_heading level0 col10\" >10</th>        <th class=\"col_heading level0 col11\" >11</th>        <th class=\"col_heading level0 col12\" >12</th>        <th class=\"col_heading level0 col13\" >13</th>        <th class=\"col_heading level0 col14\" >14</th>        <th class=\"col_heading level0 col15\" >15</th>        <th class=\"col_heading level0 col16\" >16</th>        <th class=\"col_heading level0 col17\" >17</th>    </tr></thead><tbody>\n",
              "                <tr>\n",
              "                        <th id=\"T_67360cda_63e9_11eb_b427_0242ac1c0002level0_row0\" class=\"row_heading level0 row0\" >0</th>\n",
              "                        <td id=\"T_67360cda_63e9_11eb_b427_0242ac1c0002row0_col0\" class=\"data row0 col0\" >0</td>\n",
              "                        <td id=\"T_67360cda_63e9_11eb_b427_0242ac1c0002row0_col1\" class=\"data row0 col1\" >0</td>\n",
              "                        <td id=\"T_67360cda_63e9_11eb_b427_0242ac1c0002row0_col2\" class=\"data row0 col2\" >0</td>\n",
              "                        <td id=\"T_67360cda_63e9_11eb_b427_0242ac1c0002row0_col3\" class=\"data row0 col3\" >0</td>\n",
              "                        <td id=\"T_67360cda_63e9_11eb_b427_0242ac1c0002row0_col4\" class=\"data row0 col4\" >0</td>\n",
              "                        <td id=\"T_67360cda_63e9_11eb_b427_0242ac1c0002row0_col5\" class=\"data row0 col5\" >0</td>\n",
              "                        <td id=\"T_67360cda_63e9_11eb_b427_0242ac1c0002row0_col6\" class=\"data row0 col6\" >0</td>\n",
              "                        <td id=\"T_67360cda_63e9_11eb_b427_0242ac1c0002row0_col7\" class=\"data row0 col7\" >0</td>\n",
              "                        <td id=\"T_67360cda_63e9_11eb_b427_0242ac1c0002row0_col8\" class=\"data row0 col8\" >0</td>\n",
              "                        <td id=\"T_67360cda_63e9_11eb_b427_0242ac1c0002row0_col9\" class=\"data row0 col9\" >0</td>\n",
              "                        <td id=\"T_67360cda_63e9_11eb_b427_0242ac1c0002row0_col10\" class=\"data row0 col10\" >0</td>\n",
              "                        <td id=\"T_67360cda_63e9_11eb_b427_0242ac1c0002row0_col11\" class=\"data row0 col11\" >0</td>\n",
              "                        <td id=\"T_67360cda_63e9_11eb_b427_0242ac1c0002row0_col12\" class=\"data row0 col12\" >0</td>\n",
              "                        <td id=\"T_67360cda_63e9_11eb_b427_0242ac1c0002row0_col13\" class=\"data row0 col13\" >0</td>\n",
              "                        <td id=\"T_67360cda_63e9_11eb_b427_0242ac1c0002row0_col14\" class=\"data row0 col14\" >0</td>\n",
              "                        <td id=\"T_67360cda_63e9_11eb_b427_0242ac1c0002row0_col15\" class=\"data row0 col15\" >0</td>\n",
              "                        <td id=\"T_67360cda_63e9_11eb_b427_0242ac1c0002row0_col16\" class=\"data row0 col16\" >0</td>\n",
              "                        <td id=\"T_67360cda_63e9_11eb_b427_0242ac1c0002row0_col17\" class=\"data row0 col17\" >0</td>\n",
              "            </tr>\n",
              "            <tr>\n",
              "                        <th id=\"T_67360cda_63e9_11eb_b427_0242ac1c0002level0_row1\" class=\"row_heading level0 row1\" >1</th>\n",
              "                        <td id=\"T_67360cda_63e9_11eb_b427_0242ac1c0002row1_col0\" class=\"data row1 col0\" >0</td>\n",
              "                        <td id=\"T_67360cda_63e9_11eb_b427_0242ac1c0002row1_col1\" class=\"data row1 col1\" >0</td>\n",
              "                        <td id=\"T_67360cda_63e9_11eb_b427_0242ac1c0002row1_col2\" class=\"data row1 col2\" >0</td>\n",
              "                        <td id=\"T_67360cda_63e9_11eb_b427_0242ac1c0002row1_col3\" class=\"data row1 col3\" >0</td>\n",
              "                        <td id=\"T_67360cda_63e9_11eb_b427_0242ac1c0002row1_col4\" class=\"data row1 col4\" >0</td>\n",
              "                        <td id=\"T_67360cda_63e9_11eb_b427_0242ac1c0002row1_col5\" class=\"data row1 col5\" >29</td>\n",
              "                        <td id=\"T_67360cda_63e9_11eb_b427_0242ac1c0002row1_col6\" class=\"data row1 col6\" >150</td>\n",
              "                        <td id=\"T_67360cda_63e9_11eb_b427_0242ac1c0002row1_col7\" class=\"data row1 col7\" >195</td>\n",
              "                        <td id=\"T_67360cda_63e9_11eb_b427_0242ac1c0002row1_col8\" class=\"data row1 col8\" >254</td>\n",
              "                        <td id=\"T_67360cda_63e9_11eb_b427_0242ac1c0002row1_col9\" class=\"data row1 col9\" >255</td>\n",
              "                        <td id=\"T_67360cda_63e9_11eb_b427_0242ac1c0002row1_col10\" class=\"data row1 col10\" >254</td>\n",
              "                        <td id=\"T_67360cda_63e9_11eb_b427_0242ac1c0002row1_col11\" class=\"data row1 col11\" >176</td>\n",
              "                        <td id=\"T_67360cda_63e9_11eb_b427_0242ac1c0002row1_col12\" class=\"data row1 col12\" >193</td>\n",
              "                        <td id=\"T_67360cda_63e9_11eb_b427_0242ac1c0002row1_col13\" class=\"data row1 col13\" >150</td>\n",
              "                        <td id=\"T_67360cda_63e9_11eb_b427_0242ac1c0002row1_col14\" class=\"data row1 col14\" >96</td>\n",
              "                        <td id=\"T_67360cda_63e9_11eb_b427_0242ac1c0002row1_col15\" class=\"data row1 col15\" >0</td>\n",
              "                        <td id=\"T_67360cda_63e9_11eb_b427_0242ac1c0002row1_col16\" class=\"data row1 col16\" >0</td>\n",
              "                        <td id=\"T_67360cda_63e9_11eb_b427_0242ac1c0002row1_col17\" class=\"data row1 col17\" >0</td>\n",
              "            </tr>\n",
              "            <tr>\n",
              "                        <th id=\"T_67360cda_63e9_11eb_b427_0242ac1c0002level0_row2\" class=\"row_heading level0 row2\" >2</th>\n",
              "                        <td id=\"T_67360cda_63e9_11eb_b427_0242ac1c0002row2_col0\" class=\"data row2 col0\" >0</td>\n",
              "                        <td id=\"T_67360cda_63e9_11eb_b427_0242ac1c0002row2_col1\" class=\"data row2 col1\" >0</td>\n",
              "                        <td id=\"T_67360cda_63e9_11eb_b427_0242ac1c0002row2_col2\" class=\"data row2 col2\" >0</td>\n",
              "                        <td id=\"T_67360cda_63e9_11eb_b427_0242ac1c0002row2_col3\" class=\"data row2 col3\" >48</td>\n",
              "                        <td id=\"T_67360cda_63e9_11eb_b427_0242ac1c0002row2_col4\" class=\"data row2 col4\" >166</td>\n",
              "                        <td id=\"T_67360cda_63e9_11eb_b427_0242ac1c0002row2_col5\" class=\"data row2 col5\" >224</td>\n",
              "                        <td id=\"T_67360cda_63e9_11eb_b427_0242ac1c0002row2_col6\" class=\"data row2 col6\" >253</td>\n",
              "                        <td id=\"T_67360cda_63e9_11eb_b427_0242ac1c0002row2_col7\" class=\"data row2 col7\" >253</td>\n",
              "                        <td id=\"T_67360cda_63e9_11eb_b427_0242ac1c0002row2_col8\" class=\"data row2 col8\" >234</td>\n",
              "                        <td id=\"T_67360cda_63e9_11eb_b427_0242ac1c0002row2_col9\" class=\"data row2 col9\" >196</td>\n",
              "                        <td id=\"T_67360cda_63e9_11eb_b427_0242ac1c0002row2_col10\" class=\"data row2 col10\" >253</td>\n",
              "                        <td id=\"T_67360cda_63e9_11eb_b427_0242ac1c0002row2_col11\" class=\"data row2 col11\" >253</td>\n",
              "                        <td id=\"T_67360cda_63e9_11eb_b427_0242ac1c0002row2_col12\" class=\"data row2 col12\" >253</td>\n",
              "                        <td id=\"T_67360cda_63e9_11eb_b427_0242ac1c0002row2_col13\" class=\"data row2 col13\" >253</td>\n",
              "                        <td id=\"T_67360cda_63e9_11eb_b427_0242ac1c0002row2_col14\" class=\"data row2 col14\" >233</td>\n",
              "                        <td id=\"T_67360cda_63e9_11eb_b427_0242ac1c0002row2_col15\" class=\"data row2 col15\" >0</td>\n",
              "                        <td id=\"T_67360cda_63e9_11eb_b427_0242ac1c0002row2_col16\" class=\"data row2 col16\" >0</td>\n",
              "                        <td id=\"T_67360cda_63e9_11eb_b427_0242ac1c0002row2_col17\" class=\"data row2 col17\" >0</td>\n",
              "            </tr>\n",
              "            <tr>\n",
              "                        <th id=\"T_67360cda_63e9_11eb_b427_0242ac1c0002level0_row3\" class=\"row_heading level0 row3\" >3</th>\n",
              "                        <td id=\"T_67360cda_63e9_11eb_b427_0242ac1c0002row3_col0\" class=\"data row3 col0\" >0</td>\n",
              "                        <td id=\"T_67360cda_63e9_11eb_b427_0242ac1c0002row3_col1\" class=\"data row3 col1\" >93</td>\n",
              "                        <td id=\"T_67360cda_63e9_11eb_b427_0242ac1c0002row3_col2\" class=\"data row3 col2\" >244</td>\n",
              "                        <td id=\"T_67360cda_63e9_11eb_b427_0242ac1c0002row3_col3\" class=\"data row3 col3\" >249</td>\n",
              "                        <td id=\"T_67360cda_63e9_11eb_b427_0242ac1c0002row3_col4\" class=\"data row3 col4\" >253</td>\n",
              "                        <td id=\"T_67360cda_63e9_11eb_b427_0242ac1c0002row3_col5\" class=\"data row3 col5\" >187</td>\n",
              "                        <td id=\"T_67360cda_63e9_11eb_b427_0242ac1c0002row3_col6\" class=\"data row3 col6\" >46</td>\n",
              "                        <td id=\"T_67360cda_63e9_11eb_b427_0242ac1c0002row3_col7\" class=\"data row3 col7\" >10</td>\n",
              "                        <td id=\"T_67360cda_63e9_11eb_b427_0242ac1c0002row3_col8\" class=\"data row3 col8\" >8</td>\n",
              "                        <td id=\"T_67360cda_63e9_11eb_b427_0242ac1c0002row3_col9\" class=\"data row3 col9\" >4</td>\n",
              "                        <td id=\"T_67360cda_63e9_11eb_b427_0242ac1c0002row3_col10\" class=\"data row3 col10\" >10</td>\n",
              "                        <td id=\"T_67360cda_63e9_11eb_b427_0242ac1c0002row3_col11\" class=\"data row3 col11\" >194</td>\n",
              "                        <td id=\"T_67360cda_63e9_11eb_b427_0242ac1c0002row3_col12\" class=\"data row3 col12\" >253</td>\n",
              "                        <td id=\"T_67360cda_63e9_11eb_b427_0242ac1c0002row3_col13\" class=\"data row3 col13\" >253</td>\n",
              "                        <td id=\"T_67360cda_63e9_11eb_b427_0242ac1c0002row3_col14\" class=\"data row3 col14\" >233</td>\n",
              "                        <td id=\"T_67360cda_63e9_11eb_b427_0242ac1c0002row3_col15\" class=\"data row3 col15\" >0</td>\n",
              "                        <td id=\"T_67360cda_63e9_11eb_b427_0242ac1c0002row3_col16\" class=\"data row3 col16\" >0</td>\n",
              "                        <td id=\"T_67360cda_63e9_11eb_b427_0242ac1c0002row3_col17\" class=\"data row3 col17\" >0</td>\n",
              "            </tr>\n",
              "            <tr>\n",
              "                        <th id=\"T_67360cda_63e9_11eb_b427_0242ac1c0002level0_row4\" class=\"row_heading level0 row4\" >4</th>\n",
              "                        <td id=\"T_67360cda_63e9_11eb_b427_0242ac1c0002row4_col0\" class=\"data row4 col0\" >0</td>\n",
              "                        <td id=\"T_67360cda_63e9_11eb_b427_0242ac1c0002row4_col1\" class=\"data row4 col1\" >107</td>\n",
              "                        <td id=\"T_67360cda_63e9_11eb_b427_0242ac1c0002row4_col2\" class=\"data row4 col2\" >253</td>\n",
              "                        <td id=\"T_67360cda_63e9_11eb_b427_0242ac1c0002row4_col3\" class=\"data row4 col3\" >253</td>\n",
              "                        <td id=\"T_67360cda_63e9_11eb_b427_0242ac1c0002row4_col4\" class=\"data row4 col4\" >230</td>\n",
              "                        <td id=\"T_67360cda_63e9_11eb_b427_0242ac1c0002row4_col5\" class=\"data row4 col5\" >48</td>\n",
              "                        <td id=\"T_67360cda_63e9_11eb_b427_0242ac1c0002row4_col6\" class=\"data row4 col6\" >0</td>\n",
              "                        <td id=\"T_67360cda_63e9_11eb_b427_0242ac1c0002row4_col7\" class=\"data row4 col7\" >0</td>\n",
              "                        <td id=\"T_67360cda_63e9_11eb_b427_0242ac1c0002row4_col8\" class=\"data row4 col8\" >0</td>\n",
              "                        <td id=\"T_67360cda_63e9_11eb_b427_0242ac1c0002row4_col9\" class=\"data row4 col9\" >0</td>\n",
              "                        <td id=\"T_67360cda_63e9_11eb_b427_0242ac1c0002row4_col10\" class=\"data row4 col10\" >0</td>\n",
              "                        <td id=\"T_67360cda_63e9_11eb_b427_0242ac1c0002row4_col11\" class=\"data row4 col11\" >192</td>\n",
              "                        <td id=\"T_67360cda_63e9_11eb_b427_0242ac1c0002row4_col12\" class=\"data row4 col12\" >253</td>\n",
              "                        <td id=\"T_67360cda_63e9_11eb_b427_0242ac1c0002row4_col13\" class=\"data row4 col13\" >253</td>\n",
              "                        <td id=\"T_67360cda_63e9_11eb_b427_0242ac1c0002row4_col14\" class=\"data row4 col14\" >156</td>\n",
              "                        <td id=\"T_67360cda_63e9_11eb_b427_0242ac1c0002row4_col15\" class=\"data row4 col15\" >0</td>\n",
              "                        <td id=\"T_67360cda_63e9_11eb_b427_0242ac1c0002row4_col16\" class=\"data row4 col16\" >0</td>\n",
              "                        <td id=\"T_67360cda_63e9_11eb_b427_0242ac1c0002row4_col17\" class=\"data row4 col17\" >0</td>\n",
              "            </tr>\n",
              "            <tr>\n",
              "                        <th id=\"T_67360cda_63e9_11eb_b427_0242ac1c0002level0_row5\" class=\"row_heading level0 row5\" >5</th>\n",
              "                        <td id=\"T_67360cda_63e9_11eb_b427_0242ac1c0002row5_col0\" class=\"data row5 col0\" >0</td>\n",
              "                        <td id=\"T_67360cda_63e9_11eb_b427_0242ac1c0002row5_col1\" class=\"data row5 col1\" >3</td>\n",
              "                        <td id=\"T_67360cda_63e9_11eb_b427_0242ac1c0002row5_col2\" class=\"data row5 col2\" >20</td>\n",
              "                        <td id=\"T_67360cda_63e9_11eb_b427_0242ac1c0002row5_col3\" class=\"data row5 col3\" >20</td>\n",
              "                        <td id=\"T_67360cda_63e9_11eb_b427_0242ac1c0002row5_col4\" class=\"data row5 col4\" >15</td>\n",
              "                        <td id=\"T_67360cda_63e9_11eb_b427_0242ac1c0002row5_col5\" class=\"data row5 col5\" >0</td>\n",
              "                        <td id=\"T_67360cda_63e9_11eb_b427_0242ac1c0002row5_col6\" class=\"data row5 col6\" >0</td>\n",
              "                        <td id=\"T_67360cda_63e9_11eb_b427_0242ac1c0002row5_col7\" class=\"data row5 col7\" >0</td>\n",
              "                        <td id=\"T_67360cda_63e9_11eb_b427_0242ac1c0002row5_col8\" class=\"data row5 col8\" >0</td>\n",
              "                        <td id=\"T_67360cda_63e9_11eb_b427_0242ac1c0002row5_col9\" class=\"data row5 col9\" >0</td>\n",
              "                        <td id=\"T_67360cda_63e9_11eb_b427_0242ac1c0002row5_col10\" class=\"data row5 col10\" >43</td>\n",
              "                        <td id=\"T_67360cda_63e9_11eb_b427_0242ac1c0002row5_col11\" class=\"data row5 col11\" >224</td>\n",
              "                        <td id=\"T_67360cda_63e9_11eb_b427_0242ac1c0002row5_col12\" class=\"data row5 col12\" >253</td>\n",
              "                        <td id=\"T_67360cda_63e9_11eb_b427_0242ac1c0002row5_col13\" class=\"data row5 col13\" >245</td>\n",
              "                        <td id=\"T_67360cda_63e9_11eb_b427_0242ac1c0002row5_col14\" class=\"data row5 col14\" >74</td>\n",
              "                        <td id=\"T_67360cda_63e9_11eb_b427_0242ac1c0002row5_col15\" class=\"data row5 col15\" >0</td>\n",
              "                        <td id=\"T_67360cda_63e9_11eb_b427_0242ac1c0002row5_col16\" class=\"data row5 col16\" >0</td>\n",
              "                        <td id=\"T_67360cda_63e9_11eb_b427_0242ac1c0002row5_col17\" class=\"data row5 col17\" >0</td>\n",
              "            </tr>\n",
              "            <tr>\n",
              "                        <th id=\"T_67360cda_63e9_11eb_b427_0242ac1c0002level0_row6\" class=\"row_heading level0 row6\" >6</th>\n",
              "                        <td id=\"T_67360cda_63e9_11eb_b427_0242ac1c0002row6_col0\" class=\"data row6 col0\" >0</td>\n",
              "                        <td id=\"T_67360cda_63e9_11eb_b427_0242ac1c0002row6_col1\" class=\"data row6 col1\" >0</td>\n",
              "                        <td id=\"T_67360cda_63e9_11eb_b427_0242ac1c0002row6_col2\" class=\"data row6 col2\" >0</td>\n",
              "                        <td id=\"T_67360cda_63e9_11eb_b427_0242ac1c0002row6_col3\" class=\"data row6 col3\" >0</td>\n",
              "                        <td id=\"T_67360cda_63e9_11eb_b427_0242ac1c0002row6_col4\" class=\"data row6 col4\" >0</td>\n",
              "                        <td id=\"T_67360cda_63e9_11eb_b427_0242ac1c0002row6_col5\" class=\"data row6 col5\" >0</td>\n",
              "                        <td id=\"T_67360cda_63e9_11eb_b427_0242ac1c0002row6_col6\" class=\"data row6 col6\" >0</td>\n",
              "                        <td id=\"T_67360cda_63e9_11eb_b427_0242ac1c0002row6_col7\" class=\"data row6 col7\" >0</td>\n",
              "                        <td id=\"T_67360cda_63e9_11eb_b427_0242ac1c0002row6_col8\" class=\"data row6 col8\" >0</td>\n",
              "                        <td id=\"T_67360cda_63e9_11eb_b427_0242ac1c0002row6_col9\" class=\"data row6 col9\" >0</td>\n",
              "                        <td id=\"T_67360cda_63e9_11eb_b427_0242ac1c0002row6_col10\" class=\"data row6 col10\" >249</td>\n",
              "                        <td id=\"T_67360cda_63e9_11eb_b427_0242ac1c0002row6_col11\" class=\"data row6 col11\" >253</td>\n",
              "                        <td id=\"T_67360cda_63e9_11eb_b427_0242ac1c0002row6_col12\" class=\"data row6 col12\" >245</td>\n",
              "                        <td id=\"T_67360cda_63e9_11eb_b427_0242ac1c0002row6_col13\" class=\"data row6 col13\" >126</td>\n",
              "                        <td id=\"T_67360cda_63e9_11eb_b427_0242ac1c0002row6_col14\" class=\"data row6 col14\" >0</td>\n",
              "                        <td id=\"T_67360cda_63e9_11eb_b427_0242ac1c0002row6_col15\" class=\"data row6 col15\" >0</td>\n",
              "                        <td id=\"T_67360cda_63e9_11eb_b427_0242ac1c0002row6_col16\" class=\"data row6 col16\" >0</td>\n",
              "                        <td id=\"T_67360cda_63e9_11eb_b427_0242ac1c0002row6_col17\" class=\"data row6 col17\" >0</td>\n",
              "            </tr>\n",
              "            <tr>\n",
              "                        <th id=\"T_67360cda_63e9_11eb_b427_0242ac1c0002level0_row7\" class=\"row_heading level0 row7\" >7</th>\n",
              "                        <td id=\"T_67360cda_63e9_11eb_b427_0242ac1c0002row7_col0\" class=\"data row7 col0\" >0</td>\n",
              "                        <td id=\"T_67360cda_63e9_11eb_b427_0242ac1c0002row7_col1\" class=\"data row7 col1\" >0</td>\n",
              "                        <td id=\"T_67360cda_63e9_11eb_b427_0242ac1c0002row7_col2\" class=\"data row7 col2\" >0</td>\n",
              "                        <td id=\"T_67360cda_63e9_11eb_b427_0242ac1c0002row7_col3\" class=\"data row7 col3\" >0</td>\n",
              "                        <td id=\"T_67360cda_63e9_11eb_b427_0242ac1c0002row7_col4\" class=\"data row7 col4\" >0</td>\n",
              "                        <td id=\"T_67360cda_63e9_11eb_b427_0242ac1c0002row7_col5\" class=\"data row7 col5\" >0</td>\n",
              "                        <td id=\"T_67360cda_63e9_11eb_b427_0242ac1c0002row7_col6\" class=\"data row7 col6\" >0</td>\n",
              "                        <td id=\"T_67360cda_63e9_11eb_b427_0242ac1c0002row7_col7\" class=\"data row7 col7\" >14</td>\n",
              "                        <td id=\"T_67360cda_63e9_11eb_b427_0242ac1c0002row7_col8\" class=\"data row7 col8\" >101</td>\n",
              "                        <td id=\"T_67360cda_63e9_11eb_b427_0242ac1c0002row7_col9\" class=\"data row7 col9\" >223</td>\n",
              "                        <td id=\"T_67360cda_63e9_11eb_b427_0242ac1c0002row7_col10\" class=\"data row7 col10\" >253</td>\n",
              "                        <td id=\"T_67360cda_63e9_11eb_b427_0242ac1c0002row7_col11\" class=\"data row7 col11\" >248</td>\n",
              "                        <td id=\"T_67360cda_63e9_11eb_b427_0242ac1c0002row7_col12\" class=\"data row7 col12\" >124</td>\n",
              "                        <td id=\"T_67360cda_63e9_11eb_b427_0242ac1c0002row7_col13\" class=\"data row7 col13\" >0</td>\n",
              "                        <td id=\"T_67360cda_63e9_11eb_b427_0242ac1c0002row7_col14\" class=\"data row7 col14\" >0</td>\n",
              "                        <td id=\"T_67360cda_63e9_11eb_b427_0242ac1c0002row7_col15\" class=\"data row7 col15\" >0</td>\n",
              "                        <td id=\"T_67360cda_63e9_11eb_b427_0242ac1c0002row7_col16\" class=\"data row7 col16\" >0</td>\n",
              "                        <td id=\"T_67360cda_63e9_11eb_b427_0242ac1c0002row7_col17\" class=\"data row7 col17\" >0</td>\n",
              "            </tr>\n",
              "            <tr>\n",
              "                        <th id=\"T_67360cda_63e9_11eb_b427_0242ac1c0002level0_row8\" class=\"row_heading level0 row8\" >8</th>\n",
              "                        <td id=\"T_67360cda_63e9_11eb_b427_0242ac1c0002row8_col0\" class=\"data row8 col0\" >0</td>\n",
              "                        <td id=\"T_67360cda_63e9_11eb_b427_0242ac1c0002row8_col1\" class=\"data row8 col1\" >0</td>\n",
              "                        <td id=\"T_67360cda_63e9_11eb_b427_0242ac1c0002row8_col2\" class=\"data row8 col2\" >0</td>\n",
              "                        <td id=\"T_67360cda_63e9_11eb_b427_0242ac1c0002row8_col3\" class=\"data row8 col3\" >0</td>\n",
              "                        <td id=\"T_67360cda_63e9_11eb_b427_0242ac1c0002row8_col4\" class=\"data row8 col4\" >0</td>\n",
              "                        <td id=\"T_67360cda_63e9_11eb_b427_0242ac1c0002row8_col5\" class=\"data row8 col5\" >11</td>\n",
              "                        <td id=\"T_67360cda_63e9_11eb_b427_0242ac1c0002row8_col6\" class=\"data row8 col6\" >166</td>\n",
              "                        <td id=\"T_67360cda_63e9_11eb_b427_0242ac1c0002row8_col7\" class=\"data row8 col7\" >239</td>\n",
              "                        <td id=\"T_67360cda_63e9_11eb_b427_0242ac1c0002row8_col8\" class=\"data row8 col8\" >253</td>\n",
              "                        <td id=\"T_67360cda_63e9_11eb_b427_0242ac1c0002row8_col9\" class=\"data row8 col9\" >253</td>\n",
              "                        <td id=\"T_67360cda_63e9_11eb_b427_0242ac1c0002row8_col10\" class=\"data row8 col10\" >253</td>\n",
              "                        <td id=\"T_67360cda_63e9_11eb_b427_0242ac1c0002row8_col11\" class=\"data row8 col11\" >187</td>\n",
              "                        <td id=\"T_67360cda_63e9_11eb_b427_0242ac1c0002row8_col12\" class=\"data row8 col12\" >30</td>\n",
              "                        <td id=\"T_67360cda_63e9_11eb_b427_0242ac1c0002row8_col13\" class=\"data row8 col13\" >0</td>\n",
              "                        <td id=\"T_67360cda_63e9_11eb_b427_0242ac1c0002row8_col14\" class=\"data row8 col14\" >0</td>\n",
              "                        <td id=\"T_67360cda_63e9_11eb_b427_0242ac1c0002row8_col15\" class=\"data row8 col15\" >0</td>\n",
              "                        <td id=\"T_67360cda_63e9_11eb_b427_0242ac1c0002row8_col16\" class=\"data row8 col16\" >0</td>\n",
              "                        <td id=\"T_67360cda_63e9_11eb_b427_0242ac1c0002row8_col17\" class=\"data row8 col17\" >0</td>\n",
              "            </tr>\n",
              "            <tr>\n",
              "                        <th id=\"T_67360cda_63e9_11eb_b427_0242ac1c0002level0_row9\" class=\"row_heading level0 row9\" >9</th>\n",
              "                        <td id=\"T_67360cda_63e9_11eb_b427_0242ac1c0002row9_col0\" class=\"data row9 col0\" >0</td>\n",
              "                        <td id=\"T_67360cda_63e9_11eb_b427_0242ac1c0002row9_col1\" class=\"data row9 col1\" >0</td>\n",
              "                        <td id=\"T_67360cda_63e9_11eb_b427_0242ac1c0002row9_col2\" class=\"data row9 col2\" >0</td>\n",
              "                        <td id=\"T_67360cda_63e9_11eb_b427_0242ac1c0002row9_col3\" class=\"data row9 col3\" >0</td>\n",
              "                        <td id=\"T_67360cda_63e9_11eb_b427_0242ac1c0002row9_col4\" class=\"data row9 col4\" >0</td>\n",
              "                        <td id=\"T_67360cda_63e9_11eb_b427_0242ac1c0002row9_col5\" class=\"data row9 col5\" >16</td>\n",
              "                        <td id=\"T_67360cda_63e9_11eb_b427_0242ac1c0002row9_col6\" class=\"data row9 col6\" >248</td>\n",
              "                        <td id=\"T_67360cda_63e9_11eb_b427_0242ac1c0002row9_col7\" class=\"data row9 col7\" >250</td>\n",
              "                        <td id=\"T_67360cda_63e9_11eb_b427_0242ac1c0002row9_col8\" class=\"data row9 col8\" >253</td>\n",
              "                        <td id=\"T_67360cda_63e9_11eb_b427_0242ac1c0002row9_col9\" class=\"data row9 col9\" >253</td>\n",
              "                        <td id=\"T_67360cda_63e9_11eb_b427_0242ac1c0002row9_col10\" class=\"data row9 col10\" >253</td>\n",
              "                        <td id=\"T_67360cda_63e9_11eb_b427_0242ac1c0002row9_col11\" class=\"data row9 col11\" >253</td>\n",
              "                        <td id=\"T_67360cda_63e9_11eb_b427_0242ac1c0002row9_col12\" class=\"data row9 col12\" >232</td>\n",
              "                        <td id=\"T_67360cda_63e9_11eb_b427_0242ac1c0002row9_col13\" class=\"data row9 col13\" >213</td>\n",
              "                        <td id=\"T_67360cda_63e9_11eb_b427_0242ac1c0002row9_col14\" class=\"data row9 col14\" >111</td>\n",
              "                        <td id=\"T_67360cda_63e9_11eb_b427_0242ac1c0002row9_col15\" class=\"data row9 col15\" >2</td>\n",
              "                        <td id=\"T_67360cda_63e9_11eb_b427_0242ac1c0002row9_col16\" class=\"data row9 col16\" >0</td>\n",
              "                        <td id=\"T_67360cda_63e9_11eb_b427_0242ac1c0002row9_col17\" class=\"data row9 col17\" >0</td>\n",
              "            </tr>\n",
              "            <tr>\n",
              "                        <th id=\"T_67360cda_63e9_11eb_b427_0242ac1c0002level0_row10\" class=\"row_heading level0 row10\" >10</th>\n",
              "                        <td id=\"T_67360cda_63e9_11eb_b427_0242ac1c0002row10_col0\" class=\"data row10 col0\" >0</td>\n",
              "                        <td id=\"T_67360cda_63e9_11eb_b427_0242ac1c0002row10_col1\" class=\"data row10 col1\" >0</td>\n",
              "                        <td id=\"T_67360cda_63e9_11eb_b427_0242ac1c0002row10_col2\" class=\"data row10 col2\" >0</td>\n",
              "                        <td id=\"T_67360cda_63e9_11eb_b427_0242ac1c0002row10_col3\" class=\"data row10 col3\" >0</td>\n",
              "                        <td id=\"T_67360cda_63e9_11eb_b427_0242ac1c0002row10_col4\" class=\"data row10 col4\" >0</td>\n",
              "                        <td id=\"T_67360cda_63e9_11eb_b427_0242ac1c0002row10_col5\" class=\"data row10 col5\" >0</td>\n",
              "                        <td id=\"T_67360cda_63e9_11eb_b427_0242ac1c0002row10_col6\" class=\"data row10 col6\" >0</td>\n",
              "                        <td id=\"T_67360cda_63e9_11eb_b427_0242ac1c0002row10_col7\" class=\"data row10 col7\" >43</td>\n",
              "                        <td id=\"T_67360cda_63e9_11eb_b427_0242ac1c0002row10_col8\" class=\"data row10 col8\" >98</td>\n",
              "                        <td id=\"T_67360cda_63e9_11eb_b427_0242ac1c0002row10_col9\" class=\"data row10 col9\" >98</td>\n",
              "                        <td id=\"T_67360cda_63e9_11eb_b427_0242ac1c0002row10_col10\" class=\"data row10 col10\" >208</td>\n",
              "                        <td id=\"T_67360cda_63e9_11eb_b427_0242ac1c0002row10_col11\" class=\"data row10 col11\" >253</td>\n",
              "                        <td id=\"T_67360cda_63e9_11eb_b427_0242ac1c0002row10_col12\" class=\"data row10 col12\" >253</td>\n",
              "                        <td id=\"T_67360cda_63e9_11eb_b427_0242ac1c0002row10_col13\" class=\"data row10 col13\" >253</td>\n",
              "                        <td id=\"T_67360cda_63e9_11eb_b427_0242ac1c0002row10_col14\" class=\"data row10 col14\" >253</td>\n",
              "                        <td id=\"T_67360cda_63e9_11eb_b427_0242ac1c0002row10_col15\" class=\"data row10 col15\" >187</td>\n",
              "                        <td id=\"T_67360cda_63e9_11eb_b427_0242ac1c0002row10_col16\" class=\"data row10 col16\" >22</td>\n",
              "                        <td id=\"T_67360cda_63e9_11eb_b427_0242ac1c0002row10_col17\" class=\"data row10 col17\" >0</td>\n",
              "            </tr>\n",
              "    </tbody></table>"
            ],
            "text/plain": [
              "<pandas.io.formats.style.Styler at 0x7fa906907630>"
            ]
          },
          "metadata": {
            "tags": []
          },
          "execution_count": 21
        }
      ]
    },
    {
      "cell_type": "code",
      "metadata": {
        "colab": {
          "base_uri": "https://localhost:8080/"
        },
        "id": "rNELGyxPeu8b",
        "outputId": "00b3b039-35ed-46a9-8746-0d9394afe10f"
      },
      "source": [
        "three_tensors = [tensor(Image.open(o)) for o in threes]\r\n",
        "seven_tensors = [tensor(Image.open(o)) for o in sevens]\r\n",
        "len(three_tensors), len(seven_tensors)"
      ],
      "execution_count": 6,
      "outputs": [
        {
          "output_type": "execute_result",
          "data": {
            "text/plain": [
              "(6131, 6265)"
            ]
          },
          "metadata": {
            "tags": []
          },
          "execution_count": 6
        }
      ]
    },
    {
      "cell_type": "code",
      "metadata": {
        "colab": {
          "base_uri": "https://localhost:8080/",
          "height": 101
        },
        "id": "fBUW05eFg8GK",
        "outputId": "5e772c3e-8dd1-4a58-c084-7ef455be5c7b"
      },
      "source": [
        "show_image(three_tensors[1])"
      ],
      "execution_count": 24,
      "outputs": [
        {
          "output_type": "execute_result",
          "data": {
            "text/plain": [
              "<matplotlib.axes._subplots.AxesSubplot at 0x7fa8fdff7048>"
            ]
          },
          "metadata": {
            "tags": []
          },
          "execution_count": 24
        },
        {
          "output_type": "display_data",
          "data": {
            "image/png": "[encoded data removed]",
            "text/plain": [
              "<Figure size 72x72 with 1 Axes>"
            ]
          },
          "metadata": {
            "tags": [],
            "needs_background": "light"
          }
        }
      ]
    },
    {
      "cell_type": "code",
      "metadata": {
        "colab": {
          "base_uri": "https://localhost:8080/"
        },
        "id": "YG9ChPOThMiV",
        "outputId": "bf6cd660-88b6-496d-c27a-66f2e19127f6"
      },
      "source": [
        "stacked_threes = torch.stack(three_tensors).float()/255\r\n",
        "stacked_sevens = torch.stack(seven_tensors).float()/255\r\n",
        "stacked_sevens.shape"
      ],
      "execution_count": 7,
      "outputs": [
        {
          "output_type": "execute_result",
          "data": {
            "text/plain": [
              "torch.Size([6265, 28, 28])"
            ]
          },
          "metadata": {
            "tags": []
          },
          "execution_count": 7
        }
      ]
    },
    {
      "cell_type": "code",
      "metadata": {
        "colab": {
          "base_uri": "https://localhost:8080/",
          "height": 101
        },
        "id": "Q8SE4xNGhtlI",
        "outputId": "a65764fc-c03f-4a53-88be-33559420e96e"
      },
      "source": [
        "mean3 = stacked_threes.mean(0)\r\n",
        "show_image(mean3)"
      ],
      "execution_count": 8,
      "outputs": [
        {
          "output_type": "execute_result",
          "data": {
            "text/plain": [
              "<matplotlib.axes._subplots.AxesSubplot at 0x7f3b77bb5748>"
            ]
          },
          "metadata": {
            "tags": []
          },
          "execution_count": 8
        },
        {
          "output_type": "display_data",
          "data": {
            "image/png": "[encoded data removed]",
            "text/plain": [
              "<Figure size 72x72 with 1 Axes>"
            ]
          },
          "metadata": {
            "tags": [],
            "needs_background": "light"
          }
        }
      ]
    },
    {
      "cell_type": "code",
      "metadata": {
        "colab": {
          "base_uri": "https://localhost:8080/",
          "height": 101
        },
        "id": "asohc5ibi8ZH",
        "outputId": "a517d2da-04dc-44c0-d2ad-afecee0ab0b2"
      },
      "source": [
        "mean7 = stacked_sevens.mean(0)\r\n",
        "show_image(mean7)"
      ],
      "execution_count": 9,
      "outputs": [
        {
          "output_type": "execute_result",
          "data": {
            "text/plain": [
              "<matplotlib.axes._subplots.AxesSubplot at 0x7f3b77648b00>"
            ]
          },
          "metadata": {
            "tags": []
          },
          "execution_count": 9
        },
        {
          "output_type": "display_data",
          "data": {
            "image/png": "[encoded data removed]",
            "text/plain": [
              "<Figure size 72x72 with 1 Axes>"
            ]
          },
          "metadata": {
            "tags": [],
            "needs_background": "light"
          }
        }
      ]
    },
    {
      "cell_type": "code",
      "metadata": {
        "colab": {
          "base_uri": "https://localhost:8080/",
          "height": 101
        },
        "id": "t1su_rw-jLEN",
        "outputId": "c0ab3464-67ac-4d18-a35b-375d6ed926bf"
      },
      "source": [
        "a_3 = stacked_threes[1]\r\n",
        "show_image(a_3)"
      ],
      "execution_count": 10,
      "outputs": [
        {
          "output_type": "execute_result",
          "data": {
            "text/plain": [
              "<matplotlib.axes._subplots.AxesSubplot at 0x7f3b770d1d68>"
            ]
          },
          "metadata": {
            "tags": []
          },
          "execution_count": 10
        },
        {
          "output_type": "display_data",
          "data": {
            "image/png": "[encoded data removed]",
            "text/plain": [
              "<Figure size 72x72 with 1 Axes>"
            ]
          },
          "metadata": {
            "tags": [],
            "needs_background": "light"
          }
        }
      ]
    },
    {
      "cell_type": "code",
      "metadata": {
        "colab": {
          "base_uri": "https://localhost:8080/"
        },
        "id": "tpznDD19jvsP",
        "outputId": "5b9197e9-989c-4c41-c53f-a495adbbd0fe"
      },
      "source": [
        "dist_3_abs = (a_3 - mean3).abs().mean()\r\n",
        "dist_3_sqrt = (a_3 - mean3).abs().mean().sqrt()\r\n",
        "dist_3_abs, dist_3_sqrt"
      ],
      "execution_count": 11,
      "outputs": [
        {
          "output_type": "execute_result",
          "data": {
            "text/plain": [
              "(tensor(0.1114), tensor(0.3338))"
            ]
          },
          "metadata": {
            "tags": []
          },
          "execution_count": 11
        }
      ]
    },
    {
      "cell_type": "code",
      "metadata": {
        "colab": {
          "base_uri": "https://localhost:8080/"
        },
        "id": "FNNaYAlukO_g",
        "outputId": "4dfac043-f884-4ad0-a859-89632f271174"
      },
      "source": [
        "dist_7_abs = (a_3 - mean7).abs().mean()\r\n",
        "dist_7_sqrt = (a_3 - mean7).abs().mean().sqrt()\r\n",
        "dist_7_abs, dist_7_sqrt"
      ],
      "execution_count": 12,
      "outputs": [
        {
          "output_type": "execute_result",
          "data": {
            "text/plain": [
              "(tensor(0.1586), tensor(0.3983))"
            ]
          },
          "metadata": {
            "tags": []
          },
          "execution_count": 12
        }
      ]
    },
    {
      "cell_type": "code",
      "metadata": {
        "colab": {
          "base_uri": "https://localhost:8080/"
        },
        "id": "W_tY_wW8kf75",
        "outputId": "56588f60-7a9f-4582-d664-e28812659dad"
      },
      "source": [
        "valid_3_tens = torch.stack(\r\n",
        "    [tensor(Image.open(o)) for o in (path/'valid'/'3').ls()]\r\n",
        ")\r\n",
        "valid_3_tens = valid_3_tens.float()/255\r\n",
        "valid_7_tens = torch.stack(\r\n",
        "    [tensor(Image.open(o)) for o in (path/'valid'/'7').ls()]\r\n",
        ")\r\n",
        "valid_7_tens = valid_7_tens.float()/255\r\n",
        "valid_3_tens.shape, valid_7_tens.shape"
      ],
      "execution_count": 13,
      "outputs": [
        {
          "output_type": "execute_result",
          "data": {
            "text/plain": [
              "(torch.Size([1010, 28, 28]), torch.Size([1028, 28, 28]))"
            ]
          },
          "metadata": {
            "tags": []
          },
          "execution_count": 13
        }
      ]
    },
    {
      "cell_type": "code",
      "metadata": {
        "colab": {
          "base_uri": "https://localhost:8080/"
        },
        "id": "PISsw8B2ISNu",
        "outputId": "9a934721-212f-46cf-8c0b-301b1b381526"
      },
      "source": [
        "def mnist_dist(a, b): return (a-b).abs().mean((-1,-2))\r\n",
        "mnist_dist(a_3, mean3)"
      ],
      "execution_count": 15,
      "outputs": [
        {
          "output_type": "execute_result",
          "data": {
            "text/plain": [
              "tensor(0.1114)"
            ]
          },
          "metadata": {
            "tags": []
          },
          "execution_count": 15
        }
      ]
    },
    {
      "cell_type": "code",
      "metadata": {
        "colab": {
          "base_uri": "https://localhost:8080/"
        },
        "id": "SPP6mIcZJfqG",
        "outputId": "56512fb8-2668-4e5b-f370-ad7dc04b9929"
      },
      "source": [
        "def is_3(x): return mnist_dist(x, mean3) < mnist_dist(x, mean7)\r\n",
        "is_3(a_3)"
      ],
      "execution_count": 17,
      "outputs": [
        {
          "output_type": "execute_result",
          "data": {
            "text/plain": [
              "tensor(True)"
            ]
          },
          "metadata": {
            "tags": []
          },
          "execution_count": 17
        }
      ]
    },
    {
      "cell_type": "code",
      "metadata": {
        "id": "VFs6dGHiJvH9"
      },
      "source": [
        "accuracy_3s = is_3(valid_3_tens).float().mean()"
      ],
      "execution_count": 18,
      "outputs": []
    },
    {
      "cell_type": "code",
      "metadata": {
        "id": "cemIyuPCKjWR"
      },
      "source": [
        "accuracy_7s = (1-is_3(valid_7_tens).float()).mean()"
      ],
      "execution_count": 20,
      "outputs": []
    },
    {
      "cell_type": "code",
      "metadata": {
        "colab": {
          "base_uri": "https://localhost:8080/"
        },
        "id": "BYu_as6QKqC4",
        "outputId": "6d7dbe6b-d773-4f92-9b93-845fa78bb537"
      },
      "source": [
        "accuracy_3s, accuracy_7s"
      ],
      "execution_count": 21,
      "outputs": [
        {
          "output_type": "execute_result",
          "data": {
            "text/plain": [
              "(tensor(0.9168), tensor(0.9854))"
            ]
          },
          "metadata": {
            "tags": []
          },
          "execution_count": 21
        }
      ]
    },
    {
      "cell_type": "code",
      "metadata": {
        "colab": {
          "base_uri": "https://localhost:8080/"
        },
        "id": "1HJGWAwuK0GE",
        "outputId": "aa73ba6c-916c-4ced-c00c-9905373e85db"
      },
      "source": [
        "(accuracy_3s+accuracy_7s)/2"
      ],
      "execution_count": 22,
      "outputs": [
        {
          "output_type": "execute_result",
          "data": {
            "text/plain": [
              "tensor(0.9511)"
            ]
          },
          "metadata": {
            "tags": []
          },
          "execution_count": 22
        }
      ]
    },
    {
      "cell_type": "code",
      "metadata": {
        "id": "5BNYBgg4K5Fu"
      },
      "source": [
        ""
      ],
      "execution_count": null,
      "outputs": []
    },
    {
      "cell_type": "markdown",
      "metadata": {
        "id": "ylZSam8iPIAJ"
      },
      "source": [
        "# SGD"
      ]
    },
    {
      "cell_type": "code",
      "metadata": {
        "id": "GT--uA_DPLRu"
      },
      "source": [
        "def f(x): return x**2"
      ],
      "execution_count": 23,
      "outputs": []
    },
    {
      "cell_type": "code",
      "metadata": {
        "id": "1MShoPeTTQmR"
      },
      "source": [
        "xt = tensor(3.0).requires_grad_()"
      ],
      "execution_count": 24,
      "outputs": []
    },
    {
      "cell_type": "code",
      "metadata": {
        "colab": {
          "base_uri": "https://localhost:8080/"
        },
        "id": "P6u8DaZzTeNL",
        "outputId": "047e90d6-c77d-41c7-ffe5-7fefca78788f"
      },
      "source": [
        "yt = f(xt)\r\n",
        "yt"
      ],
      "execution_count": 25,
      "outputs": [
        {
          "output_type": "execute_result",
          "data": {
            "text/plain": [
              "tensor(9., grad_fn=<PowBackward0>)"
            ]
          },
          "metadata": {
            "tags": []
          },
          "execution_count": 25
        }
      ]
    },
    {
      "cell_type": "code",
      "metadata": {
        "id": "N4xZVcKkUAQe"
      },
      "source": [
        "yt.backward()"
      ],
      "execution_count": 26,
      "outputs": []
    },
    {
      "cell_type": "code",
      "metadata": {
        "colab": {
          "base_uri": "https://localhost:8080/"
        },
        "id": "nCG7V3awUECw",
        "outputId": "a080cbb4-9159-48f4-8c27-24d3d6121dfa"
      },
      "source": [
        "xt.grad"
      ],
      "execution_count": 30,
      "outputs": [
        {
          "output_type": "execute_result",
          "data": {
            "text/plain": [
              "tensor(6.)"
            ]
          },
          "metadata": {
            "tags": []
          },
          "execution_count": 30
        }
      ]
    },
    {
      "cell_type": "code",
      "metadata": {
        "id": "hz6qQyy8UFJf"
      },
      "source": [
        "xt = tensor([2, 3, 4]).float().requires_grad_()"
      ],
      "execution_count": 32,
      "outputs": []
    },
    {
      "cell_type": "code",
      "metadata": {
        "id": "UAwde7GxUxog"
      },
      "source": [
        "def f(x): return sum(x**2)"
      ],
      "execution_count": 34,
      "outputs": []
    },
    {
      "cell_type": "code",
      "metadata": {
        "colab": {
          "base_uri": "https://localhost:8080/"
        },
        "id": "L0TpdVfKU_kx",
        "outputId": "025dce51-39cf-432e-a168-47df07c5abfd"
      },
      "source": [
        "yt = f(xt)\r\n",
        "yt"
      ],
      "execution_count": 35,
      "outputs": [
        {
          "output_type": "execute_result",
          "data": {
            "text/plain": [
              "tensor(29., grad_fn=<AddBackward0>)"
            ]
          },
          "metadata": {
            "tags": []
          },
          "execution_count": 35
        }
      ]
    },
    {
      "cell_type": "code",
      "metadata": {
        "id": "lB-PbR1PVIA8"
      },
      "source": [
        "yt.backward()"
      ],
      "execution_count": 36,
      "outputs": []
    },
    {
      "cell_type": "code",
      "metadata": {
        "colab": {
          "base_uri": "https://localhost:8080/"
        },
        "id": "IlY9VSP2VOIB",
        "outputId": "ff99080f-cd2c-45a9-c16a-9e6a454b3f64"
      },
      "source": [
        "xt.grad"
      ],
      "execution_count": 37,
      "outputs": [
        {
          "output_type": "execute_result",
          "data": {
            "text/plain": [
              "tensor([4., 6., 8.])"
            ]
          },
          "metadata": {
            "tags": []
          },
          "execution_count": 37
        }
      ]
    },
    {
      "cell_type": "code",
      "metadata": {
        "colab": {
          "base_uri": "https://localhost:8080/"
        },
        "id": "HxaHC5ybVP8O",
        "outputId": "57c23c4e-b499-4c49-c4be-03a90b415b05"
      },
      "source": [
        "time = torch.arange(0, 20); time"
      ],
      "execution_count": 58,
      "outputs": [
        {
          "output_type": "execute_result",
          "data": {
            "text/plain": [
              "tensor([ 0,  1,  2,  3,  4,  5,  6,  7,  8,  9, 10, 11, 12, 13, 14, 15, 16, 17, 18, 19])"
            ]
          },
          "metadata": {
            "tags": []
          },
          "execution_count": 58
        }
      ]
    },
    {
      "cell_type": "code",
      "metadata": {
        "colab": {
          "base_uri": "https://localhost:8080/",
          "height": 265
        },
        "id": "GeNoYd2tXJvE",
        "outputId": "72d728bd-8c20-4869-cc0c-87d85cac8876"
      },
      "source": [
        "speed = torch.randn(20)*3 + 0.75*(time-9.5)**2 + 1\r\n",
        "plt.scatter(time,speed);"
      ],
      "execution_count": 59,
      "outputs": [
        {
          "output_type": "display_data",
          "data": {
            "image/png": "[encoded data removed]",
            "text/plain": [
              "<Figure size 432x288 with 1 Axes>"
            ]
          },
          "metadata": {
            "tags": [],
            "needs_background": "light"
          }
        }
      ]
    },
    {
      "cell_type": "code",
      "metadata": {
        "id": "MtBEhWU2XpB3"
      },
      "source": [
        "def f(t, params):\r\n",
        "    a,b,c = params\r\n",
        "    return a*(t**2) + (b*t) + c"
      ],
      "execution_count": 60,
      "outputs": []
    },
    {
      "cell_type": "code",
      "metadata": {
        "id": "yDjL9c4VX4Ms"
      },
      "source": [
        "def mse(preds, targets): return ((preds-targets)**2).mean()"
      ],
      "execution_count": 67,
      "outputs": []
    },
    {
      "cell_type": "code",
      "metadata": {
        "id": "tTMeOobXYBC1"
      },
      "source": [
        "params = torch.randn(3).requires_grad_()\r\n",
        "orig_params = params.clone()"
      ],
      "execution_count": 68,
      "outputs": []
    },
    {
      "cell_type": "code",
      "metadata": {
        "id": "sE2ycwspYb_0"
      },
      "source": [
        "preds = f(time, params)"
      ],
      "execution_count": 69,
      "outputs": []
    },
    {
      "cell_type": "code",
      "metadata": {
        "id": "dSVQrqAHYk9B"
      },
      "source": [
        "def show_preds(preds, ax=None):\r\n",
        "    if ax is None: ax=plt.subplots()[1]\r\n",
        "    ax.scatter(time, speed)\r\n",
        "    ax.scatter(time, to_np(preds), color='red')\r\n",
        "    ax.set_ylim(-300,100)"
      ],
      "execution_count": 64,
      "outputs": []
    },
    {
      "cell_type": "code",
      "metadata": {
        "colab": {
          "base_uri": "https://localhost:8080/",
          "height": 268
        },
        "id": "fv_aXgqtYqZ2",
        "outputId": "a1fc62a8-a7f2-41a0-dcb5-d6905f568920"
      },
      "source": [
        "show_preds(preds)"
      ],
      "execution_count": 70,
      "outputs": [
        {
          "output_type": "display_data",
          "data": {
            "image/png": "[encoded data removed]",
            "text/plain": [
              "<Figure size 432x288 with 1 Axes>"
            ]
          },
          "metadata": {
            "tags": [],
            "needs_background": "light"
          }
        }
      ]
    },
    {
      "cell_type": "code",
      "metadata": {
        "colab": {
          "base_uri": "https://localhost:8080/"
        },
        "id": "a418MkgeYuia",
        "outputId": "9d711e55-c797-43d7-d382-796683a01cb5"
      },
      "source": [
        "loss = mse(preds, speed)\r\n",
        "loss"
      ],
      "execution_count": 71,
      "outputs": [
        {
          "output_type": "execute_result",
          "data": {
            "text/plain": [
              "tensor(20625.3867, grad_fn=<MeanBackward0>)"
            ]
          },
          "metadata": {
            "tags": []
          },
          "execution_count": 71
        }
      ]
    },
    {
      "cell_type": "code",
      "metadata": {
        "colab": {
          "base_uri": "https://localhost:8080/"
        },
        "id": "0XloBwBxZDRE",
        "outputId": "199bd576-5d8f-4c7c-fd1a-c0c996223edf"
      },
      "source": [
        "params"
      ],
      "execution_count": 72,
      "outputs": [
        {
          "output_type": "execute_result",
          "data": {
            "text/plain": [
              "tensor([-0.7409,  0.3618,  1.9199], requires_grad=True)"
            ]
          },
          "metadata": {
            "tags": []
          },
          "execution_count": 72
        }
      ]
    },
    {
      "cell_type": "code",
      "metadata": {
        "colab": {
          "base_uri": "https://localhost:8080/"
        },
        "id": "FalnWZ5RaEVJ",
        "outputId": "02bc9d06-c83e-4cd4-c301-a1077f6f7365"
      },
      "source": [
        "loss.backward()\r\n",
        "params.grad"
      ],
      "execution_count": 73,
      "outputs": [
        {
          "output_type": "execute_result",
          "data": {
            "text/plain": [
              "tensor([-47434.6641,  -3037.2026,   -225.2986])"
            ]
          },
          "metadata": {
            "tags": []
          },
          "execution_count": 73
        }
      ]
    },
    {
      "cell_type": "code",
      "metadata": {
        "colab": {
          "base_uri": "https://localhost:8080/"
        },
        "id": "Lmpkve9paI3O",
        "outputId": "b8015cca-b6bb-4cfc-9d76-3d154ef15016"
      },
      "source": [
        "params.grad * 1e-5"
      ],
      "execution_count": 74,
      "outputs": [
        {
          "output_type": "execute_result",
          "data": {
            "text/plain": [
              "tensor([-0.4743, -0.0304, -0.0023])"
            ]
          },
          "metadata": {
            "tags": []
          },
          "execution_count": 74
        }
      ]
    },
    {
      "cell_type": "code",
      "metadata": {
        "id": "kr98maTYaYO-"
      },
      "source": [
        "lr = 1e-5\r\n",
        "params.data -= lr * params.grad.data\r\n",
        "params.grad = None"
      ],
      "execution_count": 75,
      "outputs": []
    },
    {
      "cell_type": "code",
      "metadata": {
        "colab": {
          "base_uri": "https://localhost:8080/",
          "height": 268
        },
        "id": "58dGO4tVaize",
        "outputId": "7b783465-7c2e-4a81-ad1e-4cc2873e1f74"
      },
      "source": [
        "preds = f(time, params)\r\n",
        "show_preds(preds)"
      ],
      "execution_count": 76,
      "outputs": [
        {
          "output_type": "display_data",
          "data": {
            "image/png": "[encoded data removed]",
            "text/plain": [
              "<Figure size 432x288 with 1 Axes>"
            ]
          },
          "metadata": {
            "tags": [],
            "needs_background": "light"
          }
        }
      ]
    },
    {
      "cell_type": "code",
      "metadata": {
        "colab": {
          "base_uri": "https://localhost:8080/"
        },
        "id": "-6Sb1VPVatKq",
        "outputId": "db8be9f9-769f-4358-e06f-9225c186351d"
      },
      "source": [
        "mse(preds, speed)"
      ],
      "execution_count": 77,
      "outputs": [
        {
          "output_type": "execute_result",
          "data": {
            "text/plain": [
              "tensor(4414.6738, grad_fn=<MeanBackward0>)"
            ]
          },
          "metadata": {
            "tags": []
          },
          "execution_count": 77
        }
      ]
    },
    {
      "cell_type": "code",
      "metadata": {
        "id": "46vc_uGna42Q"
      },
      "source": [
        "def apply_step(params, prn=True):\r\n",
        "    preds = f(time, params)\r\n",
        "    loss = mse(preds, speed)\r\n",
        "    loss.backward()\r\n",
        "    params.data -= lr * params.grad.data\r\n",
        "    params.grad = None\r\n",
        "    if prn: print(loss.item())\r\n",
        "    return preds"
      ],
      "execution_count": 78,
      "outputs": []
    },
    {
      "cell_type": "code",
      "metadata": {
        "colab": {
          "base_uri": "https://localhost:8080/"
        },
        "id": "9_dip3WSbUm6",
        "outputId": "27cffc93-307f-4065-e3ea-9ce427d73fc3"
      },
      "source": [
        "for i in range(10): apply_step(params)"
      ],
      "execution_count": 79,
      "outputs": [
        {
          "output_type": "stream",
          "text": [
            "4414.673828125\n",
            "1347.109375\n",
            "766.6297607421875\n",
            "656.7825927734375\n",
            "635.9934692382812\n",
            "632.056884765625\n",
            "631.3092041015625\n",
            "631.1649780273438\n",
            "631.135009765625\n",
            "631.1266479492188\n"
          ],
          "name": "stdout"
        }
      ]
    },
    {
      "cell_type": "code",
      "metadata": {
        "colab": {
          "base_uri": "https://localhost:8080/"
        },
        "id": "TWVYoDnZbX9X",
        "outputId": "6fc125c6-7158-4f44-e67f-708063dbb5b3"
      },
      "source": [
        "train_x = torch.cat([stacked_threes, stacked_sevens]).view(-1, 28*28)\r\n",
        "train_y = tensor([1]*len(threes)+[0]*len(sevens)).unsqueeze(1)\r\n",
        "train_x.shape, train_y.shape"
      ],
      "execution_count": 80,
      "outputs": [
        {
          "output_type": "execute_result",
          "data": {
            "text/plain": [
              "(torch.Size([12396, 784]), torch.Size([12396, 1]))"
            ]
          },
          "metadata": {
            "tags": []
          },
          "execution_count": 80
        }
      ]
    },
    {
      "cell_type": "code",
      "metadata": {
        "id": "hIJsd4xQvJz3"
      },
      "source": [
        "dset = list(zip(train_x, train_y))"
      ],
      "execution_count": 81,
      "outputs": []
    },
    {
      "cell_type": "code",
      "metadata": {
        "id": "O_NTHMwevqSL"
      },
      "source": [
        "valid_x = torch.cat([valid_3_tens, valid_7_tens]).view(-1, 28*28)\r\n",
        "valid_y = tensor([1]*len(valid_3_tens) + [0]*len(valid_7_tens)).unsqueeze(1)\r\n",
        "valid_dset = list(zip(valid_x,valid_y))"
      ],
      "execution_count": 82,
      "outputs": []
    },
    {
      "cell_type": "code",
      "metadata": {
        "id": "upTAi1ufvrzw"
      },
      "source": [
        "def init_params(size, std=1.0): return (torch.randn(size)*std).requires_grad_()"
      ],
      "execution_count": 83,
      "outputs": []
    },
    {
      "cell_type": "code",
      "metadata": {
        "id": "I6lOX_2vv4hi"
      },
      "source": [
        "weights = init_params((784, 1))\r\n",
        "b = init_params(1)"
      ],
      "execution_count": 84,
      "outputs": []
    },
    {
      "cell_type": "code",
      "metadata": {
        "id": "9KKMvfOA0VXA"
      },
      "source": [
        "def linear1(x): return x@weights + b"
      ],
      "execution_count": 85,
      "outputs": []
    },
    {
      "cell_type": "code",
      "metadata": {
        "id": "hqYwUONy1k8o"
      },
      "source": [
        "def mnist_loss(predictions, target):\r\n",
        "    predictions = predictions.sigmoid()\r\n",
        "    return torch.where(target==1, 1-predictions, predictions).mean()"
      ],
      "execution_count": 93,
      "outputs": []
    },
    {
      "cell_type": "code",
      "metadata": {
        "id": "TTBbJEel2Pwx"
      },
      "source": [
        "dl = DataLoader(dset, batch_size=256)\r\n",
        "valid_dl = DataLoader(valid_dset, batch_size=256)"
      ],
      "execution_count": 87,
      "outputs": []
    },
    {
      "cell_type": "code",
      "metadata": {
        "id": "VaI_-T0T4r77"
      },
      "source": [
        "def calc_grad(xb, yb, model):\r\n",
        "    preds = model(xb)\r\n",
        "    loss = mnist_loss(preds, yb)\r\n",
        "    loss.backward()"
      ],
      "execution_count": 88,
      "outputs": []
    },
    {
      "cell_type": "code",
      "metadata": {
        "id": "GAw1Omdq4ux3"
      },
      "source": [
        "def train_epoch(model, lr, params):\r\n",
        "    for xb,yb in dl:\r\n",
        "        calc_grad(xb, yb, model)\r\n",
        "        for p in params:\r\n",
        "            p.data -= p.grad*lr\r\n",
        "            p.grad.zero_()"
      ],
      "execution_count": 89,
      "outputs": []
    },
    {
      "cell_type": "code",
      "metadata": {
        "id": "DHGM5aIH5IqV"
      },
      "source": [
        "def batch_accuracy(xb, yb):\r\n",
        "    preds = xb.sigmoid()\r\n",
        "    correct = (preds>0.5) == yb\r\n",
        "    return correct.float().mean()"
      ],
      "execution_count": 90,
      "outputs": []
    },
    {
      "cell_type": "code",
      "metadata": {
        "id": "18kqlJFe5LPd"
      },
      "source": [
        "def validate_epoch(model):\r\n",
        "    accs = [batch_accuracy(model(xb), yb) for xb,yb in valid_dl]\r\n",
        "    return round(torch.stack(accs).mean().item(), 4)"
      ],
      "execution_count": 91,
      "outputs": []
    },
    {
      "cell_type": "code",
      "metadata": {
        "id": "5UhP5psw6kGB"
      },
      "source": [
        "lr = 1.\r\n",
        "params = weights,b"
      ],
      "execution_count": 96,
      "outputs": []
    },
    {
      "cell_type": "code",
      "metadata": {
        "colab": {
          "base_uri": "https://localhost:8080/"
        },
        "id": "9OWq1MEW5X5W",
        "outputId": "8fc9d650-8abc-46a6-dca7-dc212b99234f"
      },
      "source": [
        "for i in range(20):\r\n",
        "    train_epoch(linear1, lr, params)\r\n",
        "    print(validate_epoch(linear1), end=' ')"
      ],
      "execution_count": 97,
      "outputs": [
        {
          "output_type": "stream",
          "text": [
            "0.7481 0.8042 0.893 0.9286 0.9408 0.9486 0.9564 0.9584 0.9608 0.9637 0.9647 0.9647 0.9662 0.9662 0.9667 0.9681 0.9686 0.9701 0.9706 0.9716 "
          ],
          "name": "stdout"
        }
      ]
    },
    {
      "cell_type": "code",
      "metadata": {
        "id": "XQNlmMKJ5cn6"
      },
      "source": [
        "def train_epoch(model):\r\n",
        "    for xb,yb in dl:\r\n",
        "        calc_grad(xb, yb, model)\r\n",
        "        opt.step()\r\n",
        "        opt.zero_grad()"
      ],
      "execution_count": 98,
      "outputs": []
    },
    {
      "cell_type": "code",
      "metadata": {
        "id": "Qb6Q-v-I7dqa"
      },
      "source": [
        "def train_model(model, epochs):\r\n",
        "    for i in range(epochs):\r\n",
        "        train_epoch(model)\r\n",
        "        print(validate_epoch(model), end=' ')"
      ],
      "execution_count": 99,
      "outputs": []
    },
    {
      "cell_type": "code",
      "metadata": {
        "colab": {
          "base_uri": "https://localhost:8080/"
        },
        "id": "WieVVsnK7gTU",
        "outputId": "4972b5f0-8d20-4054-b6a6-92dba18e7741"
      },
      "source": [
        "linear = nn.Linear(28*28, 1)\r\n",
        "opt = SGD(linear.parameters(), lr)\r\n",
        "train_model(linear, 20)"
      ],
      "execution_count": 100,
      "outputs": [
        {
          "output_type": "stream",
          "text": [
            "0.4932 0.8725 0.8232 0.9111 0.9331 0.9468 0.9555 0.9624 0.9653 0.9682 0.9697 0.9717 0.9741 0.9751 0.9761 0.9765 0.9775 0.9775 0.9785 0.9785 "
          ],
          "name": "stdout"
        }
      ]
    },
    {
      "cell_type": "code",
      "metadata": {
        "id": "XEUj9ws770j-"
      },
      "source": [
        "dls = DataLoaders(dl, valid_dl)\r\n",
        "learn = Learner(dls, nn.Linear(28*28, 1),\r\n",
        "                loss_func=mnist_loss, opt_func=SGD,\r\n",
        "                metrics=batch_accuracy)"
      ],
      "execution_count": 104,
      "outputs": []
    },
    {
      "cell_type": "code",
      "metadata": {
        "colab": {
          "base_uri": "https://localhost:8080/",
          "height": 622
        },
        "id": "tcM3r7D98etP",
        "outputId": "baa815e2-a6ba-4d1c-90a9-f89d3702ca28"
      },
      "source": [
        "learn.fit(20, lr=lr)"
      ],
      "execution_count": 105,
      "outputs": [
        {
          "output_type": "display_data",
          "data": {
            "text/html": [
              "<table border=\"1\" class=\"dataframe\">\n",
              "  <thead>\n",
              "    <tr style=\"text-align: left;\">\n",
              "      <th>epoch</th>\n",
              "      <th>train_loss</th>\n",
              "      <th>valid_loss</th>\n",
              "      <th>batch_accuracy</th>\n",
              "      <th>time</th>\n",
              "    </tr>\n",
              "  </thead>\n",
              "  <tbody>\n",
              "    <tr>\n",
              "      <td>0</td>\n",
              "      <td>0.636899</td>\n",
              "      <td>0.503707</td>\n",
              "      <td>0.495584</td>\n",
              "      <td>00:00</td>\n",
              "    </tr>\n",
              "    <tr>\n",
              "      <td>1</td>\n",
              "      <td>0.628968</td>\n",
              "      <td>0.345020</td>\n",
              "      <td>0.614818</td>\n",
              "      <td>00:00</td>\n",
              "    </tr>\n",
              "    <tr>\n",
              "      <td>2</td>\n",
              "      <td>0.230670</td>\n",
              "      <td>0.317430</td>\n",
              "      <td>0.676644</td>\n",
              "      <td>00:00</td>\n",
              "    </tr>\n",
              "    <tr>\n",
              "      <td>3</td>\n",
              "      <td>0.099692</td>\n",
              "      <td>0.143557</td>\n",
              "      <td>0.875368</td>\n",
              "      <td>00:00</td>\n",
              "    </tr>\n",
              "    <tr>\n",
              "      <td>4</td>\n",
              "      <td>0.050761</td>\n",
              "      <td>0.093813</td>\n",
              "      <td>0.919529</td>\n",
              "      <td>00:00</td>\n",
              "    </tr>\n",
              "    <tr>\n",
              "      <td>5</td>\n",
              "      <td>0.031760</td>\n",
              "      <td>0.071363</td>\n",
              "      <td>0.937684</td>\n",
              "      <td>00:00</td>\n",
              "    </tr>\n",
              "    <tr>\n",
              "      <td>6</td>\n",
              "      <td>0.023938</td>\n",
              "      <td>0.058494</td>\n",
              "      <td>0.952404</td>\n",
              "      <td>00:00</td>\n",
              "    </tr>\n",
              "    <tr>\n",
              "      <td>7</td>\n",
              "      <td>0.020492</td>\n",
              "      <td>0.050276</td>\n",
              "      <td>0.957802</td>\n",
              "      <td>00:00</td>\n",
              "    </tr>\n",
              "    <tr>\n",
              "      <td>8</td>\n",
              "      <td>0.018796</td>\n",
              "      <td>0.044697</td>\n",
              "      <td>0.963199</td>\n",
              "      <td>00:00</td>\n",
              "    </tr>\n",
              "    <tr>\n",
              "      <td>9</td>\n",
              "      <td>0.017820</td>\n",
              "      <td>0.040702</td>\n",
              "      <td>0.965653</td>\n",
              "      <td>00:00</td>\n",
              "    </tr>\n",
              "    <tr>\n",
              "      <td>10</td>\n",
              "      <td>0.017160</td>\n",
              "      <td>0.037705</td>\n",
              "      <td>0.967615</td>\n",
              "      <td>00:00</td>\n",
              "    </tr>\n",
              "    <tr>\n",
              "      <td>11</td>\n",
              "      <td>0.016652</td>\n",
              "      <td>0.035367</td>\n",
              "      <td>0.969578</td>\n",
              "      <td>00:00</td>\n",
              "    </tr>\n",
              "    <tr>\n",
              "      <td>12</td>\n",
              "      <td>0.016230</td>\n",
              "      <td>0.033482</td>\n",
              "      <td>0.971541</td>\n",
              "      <td>00:00</td>\n",
              "    </tr>\n",
              "    <tr>\n",
              "      <td>13</td>\n",
              "      <td>0.015867</td>\n",
              "      <td>0.031924</td>\n",
              "      <td>0.973994</td>\n",
              "      <td>00:00</td>\n",
              "    </tr>\n",
              "    <tr>\n",
              "      <td>14</td>\n",
              "      <td>0.015553</td>\n",
              "      <td>0.030613</td>\n",
              "      <td>0.974975</td>\n",
              "      <td>00:00</td>\n",
              "    </tr>\n",
              "    <tr>\n",
              "      <td>15</td>\n",
              "      <td>0.015279</td>\n",
              "      <td>0.029494</td>\n",
              "      <td>0.975957</td>\n",
              "      <td>00:00</td>\n",
              "    </tr>\n",
              "    <tr>\n",
              "      <td>16</td>\n",
              "      <td>0.015040</td>\n",
              "      <td>0.028530</td>\n",
              "      <td>0.976938</td>\n",
              "      <td>00:00</td>\n",
              "    </tr>\n",
              "    <tr>\n",
              "      <td>17</td>\n",
              "      <td>0.014828</td>\n",
              "      <td>0.027693</td>\n",
              "      <td>0.977429</td>\n",
              "      <td>00:00</td>\n",
              "    </tr>\n",
              "    <tr>\n",
              "      <td>18</td>\n",
              "      <td>0.014640</td>\n",
              "      <td>0.026961</td>\n",
              "      <td>0.977920</td>\n",
              "      <td>00:00</td>\n",
              "    </tr>\n",
              "    <tr>\n",
              "      <td>19</td>\n",
              "      <td>0.014471</td>\n",
              "      <td>0.026317</td>\n",
              "      <td>0.977920</td>\n",
              "      <td>00:00</td>\n",
              "    </tr>\n",
              "  </tbody>\n",
              "</table>"
            ],
            "text/plain": [
              "<IPython.core.display.HTML object>"
            ]
          },
          "metadata": {
            "tags": []
          }
        }
      ]
    },
    {
      "cell_type": "code",
      "metadata": {
        "colab": {
          "base_uri": "https://localhost:8080/",
          "height": 1000
        },
        "id": "w1z-MF2z8mMj",
        "outputId": "9640e1ec-be48-44be-ef38-b5ec6ec05214"
      },
      "source": [
        "model = nn.Sequential(\r\n",
        "    nn.Linear(28*28, 30),\r\n",
        "    nn.ReLU(),\r\n",
        "    nn.Linear(30, 1)\r\n",
        ")\r\n",
        "learn = Learner(dls, model=model, loss_func=mnist_loss,\r\n",
        "                opt_func=SGD, metrics=batch_accuracy)\r\n",
        "learn.fit(40, 0.1)"
      ],
      "execution_count": 108,
      "outputs": [
        {
          "output_type": "display_data",
          "data": {
            "text/html": [
              "<table border=\"1\" class=\"dataframe\">\n",
              "  <thead>\n",
              "    <tr style=\"text-align: left;\">\n",
              "      <th>epoch</th>\n",
              "      <th>train_loss</th>\n",
              "      <th>valid_loss</th>\n",
              "      <th>batch_accuracy</th>\n",
              "      <th>time</th>\n",
              "    </tr>\n",
              "  </thead>\n",
              "  <tbody>\n",
              "    <tr>\n",
              "      <td>0</td>\n",
              "      <td>0.276145</td>\n",
              "      <td>0.416345</td>\n",
              "      <td>0.504416</td>\n",
              "      <td>00:00</td>\n",
              "    </tr>\n",
              "    <tr>\n",
              "      <td>1</td>\n",
              "      <td>0.133693</td>\n",
              "      <td>0.213449</td>\n",
              "      <td>0.820412</td>\n",
              "      <td>00:00</td>\n",
              "    </tr>\n",
              "    <tr>\n",
              "      <td>2</td>\n",
              "      <td>0.075664</td>\n",
              "      <td>0.109587</td>\n",
              "      <td>0.921001</td>\n",
              "      <td>00:00</td>\n",
              "    </tr>\n",
              "    <tr>\n",
              "      <td>3</td>\n",
              "      <td>0.050835</td>\n",
              "      <td>0.075134</td>\n",
              "      <td>0.944553</td>\n",
              "      <td>00:00</td>\n",
              "    </tr>\n",
              "    <tr>\n",
              "      <td>4</td>\n",
              "      <td>0.039183</td>\n",
              "      <td>0.059144</td>\n",
              "      <td>0.960255</td>\n",
              "      <td>00:00</td>\n",
              "    </tr>\n",
              "    <tr>\n",
              "      <td>5</td>\n",
              "      <td>0.033140</td>\n",
              "      <td>0.050131</td>\n",
              "      <td>0.964181</td>\n",
              "      <td>00:00</td>\n",
              "    </tr>\n",
              "    <tr>\n",
              "      <td>6</td>\n",
              "      <td>0.029606</td>\n",
              "      <td>0.044436</td>\n",
              "      <td>0.967125</td>\n",
              "      <td>00:00</td>\n",
              "    </tr>\n",
              "    <tr>\n",
              "      <td>7</td>\n",
              "      <td>0.027271</td>\n",
              "      <td>0.040526</td>\n",
              "      <td>0.966634</td>\n",
              "      <td>00:00</td>\n",
              "    </tr>\n",
              "    <tr>\n",
              "      <td>8</td>\n",
              "      <td>0.025569</td>\n",
              "      <td>0.037660</td>\n",
              "      <td>0.968106</td>\n",
              "      <td>00:00</td>\n",
              "    </tr>\n",
              "    <tr>\n",
              "      <td>9</td>\n",
              "      <td>0.024241</td>\n",
              "      <td>0.035457</td>\n",
              "      <td>0.969578</td>\n",
              "      <td>00:00</td>\n",
              "    </tr>\n",
              "    <tr>\n",
              "      <td>10</td>\n",
              "      <td>0.023158</td>\n",
              "      <td>0.033696</td>\n",
              "      <td>0.973013</td>\n",
              "      <td>00:00</td>\n",
              "    </tr>\n",
              "    <tr>\n",
              "      <td>11</td>\n",
              "      <td>0.022251</td>\n",
              "      <td>0.032247</td>\n",
              "      <td>0.974975</td>\n",
              "      <td>00:00</td>\n",
              "    </tr>\n",
              "    <tr>\n",
              "      <td>12</td>\n",
              "      <td>0.021476</td>\n",
              "      <td>0.031022</td>\n",
              "      <td>0.974975</td>\n",
              "      <td>00:00</td>\n",
              "    </tr>\n",
              "    <tr>\n",
              "      <td>13</td>\n",
              "      <td>0.020804</td>\n",
              "      <td>0.029970</td>\n",
              "      <td>0.974975</td>\n",
              "      <td>00:00</td>\n",
              "    </tr>\n",
              "    <tr>\n",
              "      <td>14</td>\n",
              "      <td>0.020214</td>\n",
              "      <td>0.029053</td>\n",
              "      <td>0.975957</td>\n",
              "      <td>00:00</td>\n",
              "    </tr>\n",
              "    <tr>\n",
              "      <td>15</td>\n",
              "      <td>0.019690</td>\n",
              "      <td>0.028243</td>\n",
              "      <td>0.976448</td>\n",
              "      <td>00:00</td>\n",
              "    </tr>\n",
              "    <tr>\n",
              "      <td>16</td>\n",
              "      <td>0.019222</td>\n",
              "      <td>0.027521</td>\n",
              "      <td>0.976938</td>\n",
              "      <td>00:00</td>\n",
              "    </tr>\n",
              "    <tr>\n",
              "      <td>17</td>\n",
              "      <td>0.018798</td>\n",
              "      <td>0.026874</td>\n",
              "      <td>0.976938</td>\n",
              "      <td>00:00</td>\n",
              "    </tr>\n",
              "    <tr>\n",
              "      <td>18</td>\n",
              "      <td>0.018413</td>\n",
              "      <td>0.026290</td>\n",
              "      <td>0.977920</td>\n",
              "      <td>00:00</td>\n",
              "    </tr>\n",
              "    <tr>\n",
              "      <td>19</td>\n",
              "      <td>0.018061</td>\n",
              "      <td>0.025761</td>\n",
              "      <td>0.978410</td>\n",
              "      <td>00:00</td>\n",
              "    </tr>\n",
              "    <tr>\n",
              "      <td>20</td>\n",
              "      <td>0.017736</td>\n",
              "      <td>0.025279</td>\n",
              "      <td>0.978901</td>\n",
              "      <td>00:00</td>\n",
              "    </tr>\n",
              "    <tr>\n",
              "      <td>21</td>\n",
              "      <td>0.017436</td>\n",
              "      <td>0.024837</td>\n",
              "      <td>0.979392</td>\n",
              "      <td>00:00</td>\n",
              "    </tr>\n",
              "    <tr>\n",
              "      <td>22</td>\n",
              "      <td>0.017158</td>\n",
              "      <td>0.024430</td>\n",
              "      <td>0.980864</td>\n",
              "      <td>00:00</td>\n",
              "    </tr>\n",
              "    <tr>\n",
              "      <td>23</td>\n",
              "      <td>0.016897</td>\n",
              "      <td>0.024054</td>\n",
              "      <td>0.981354</td>\n",
              "      <td>00:00</td>\n",
              "    </tr>\n",
              "    <tr>\n",
              "      <td>24</td>\n",
              "      <td>0.016654</td>\n",
              "      <td>0.023705</td>\n",
              "      <td>0.981354</td>\n",
              "      <td>00:00</td>\n",
              "    </tr>\n",
              "    <tr>\n",
              "      <td>25</td>\n",
              "      <td>0.016424</td>\n",
              "      <td>0.023383</td>\n",
              "      <td>0.981354</td>\n",
              "      <td>00:00</td>\n",
              "    </tr>\n",
              "    <tr>\n",
              "      <td>26</td>\n",
              "      <td>0.016208</td>\n",
              "      <td>0.023083</td>\n",
              "      <td>0.981354</td>\n",
              "      <td>00:00</td>\n",
              "    </tr>\n",
              "    <tr>\n",
              "      <td>27</td>\n",
              "      <td>0.016004</td>\n",
              "      <td>0.022805</td>\n",
              "      <td>0.981845</td>\n",
              "      <td>00:00</td>\n",
              "    </tr>\n",
              "    <tr>\n",
              "      <td>28</td>\n",
              "      <td>0.015810</td>\n",
              "      <td>0.022544</td>\n",
              "      <td>0.981354</td>\n",
              "      <td>00:00</td>\n",
              "    </tr>\n",
              "    <tr>\n",
              "      <td>29</td>\n",
              "      <td>0.015627</td>\n",
              "      <td>0.022301</td>\n",
              "      <td>0.981845</td>\n",
              "      <td>00:00</td>\n",
              "    </tr>\n",
              "    <tr>\n",
              "      <td>30</td>\n",
              "      <td>0.015452</td>\n",
              "      <td>0.022074</td>\n",
              "      <td>0.982336</td>\n",
              "      <td>00:00</td>\n",
              "    </tr>\n",
              "    <tr>\n",
              "      <td>31</td>\n",
              "      <td>0.015286</td>\n",
              "      <td>0.021860</td>\n",
              "      <td>0.982826</td>\n",
              "      <td>00:00</td>\n",
              "    </tr>\n",
              "    <tr>\n",
              "      <td>32</td>\n",
              "      <td>0.015128</td>\n",
              "      <td>0.021660</td>\n",
              "      <td>0.982826</td>\n",
              "      <td>00:00</td>\n",
              "    </tr>\n",
              "    <tr>\n",
              "      <td>33</td>\n",
              "      <td>0.014977</td>\n",
              "      <td>0.021472</td>\n",
              "      <td>0.982826</td>\n",
              "      <td>00:00</td>\n",
              "    </tr>\n",
              "    <tr>\n",
              "      <td>34</td>\n",
              "      <td>0.014832</td>\n",
              "      <td>0.021295</td>\n",
              "      <td>0.982826</td>\n",
              "      <td>00:00</td>\n",
              "    </tr>\n",
              "    <tr>\n",
              "      <td>35</td>\n",
              "      <td>0.014693</td>\n",
              "      <td>0.021128</td>\n",
              "      <td>0.982336</td>\n",
              "      <td>00:00</td>\n",
              "    </tr>\n",
              "    <tr>\n",
              "      <td>36</td>\n",
              "      <td>0.014560</td>\n",
              "      <td>0.020970</td>\n",
              "      <td>0.982336</td>\n",
              "      <td>00:00</td>\n",
              "    </tr>\n",
              "    <tr>\n",
              "      <td>37</td>\n",
              "      <td>0.014431</td>\n",
              "      <td>0.020821</td>\n",
              "      <td>0.982336</td>\n",
              "      <td>00:00</td>\n",
              "    </tr>\n",
              "    <tr>\n",
              "      <td>38</td>\n",
              "      <td>0.014308</td>\n",
              "      <td>0.020679</td>\n",
              "      <td>0.982336</td>\n",
              "      <td>00:00</td>\n",
              "    </tr>\n",
              "    <tr>\n",
              "      <td>39</td>\n",
              "      <td>0.014188</td>\n",
              "      <td>0.020545</td>\n",
              "      <td>0.982336</td>\n",
              "      <td>00:00</td>\n",
              "    </tr>\n",
              "  </tbody>\n",
              "</table>"
            ],
            "text/plain": [
              "<IPython.core.display.HTML object>"
            ]
          },
          "metadata": {
            "tags": []
          }
        }
      ]
    },
    {
      "cell_type": "code",
      "metadata": {
        "colab": {
          "base_uri": "https://localhost:8080/",
          "height": 76
        },
        "id": "YEGHY66w_9zZ",
        "outputId": "72626585-aca2-4475-ebb2-63f7f30809a5"
      },
      "source": [
        "dls = ImageDataLoaders.from_folder(path)\r\n",
        "learn = cnn_learner(dls, resnet18, pretrained=False, loss_func=F.cross_entropy,\r\n",
        "                    metrics=accuracy)\r\n",
        "learn.fit_one_cycle(1, 0.1)"
      ],
      "execution_count": 110,
      "outputs": [
        {
          "output_type": "display_data",
          "data": {
            "text/html": [
              "<table border=\"1\" class=\"dataframe\">\n",
              "  <thead>\n",
              "    <tr style=\"text-align: left;\">\n",
              "      <th>epoch</th>\n",
              "      <th>train_loss</th>\n",
              "      <th>valid_loss</th>\n",
              "      <th>accuracy</th>\n",
              "      <th>time</th>\n",
              "    </tr>\n",
              "  </thead>\n",
              "  <tbody>\n",
              "    <tr>\n",
              "      <td>0</td>\n",
              "      <td>0.087875</td>\n",
              "      <td>0.010553</td>\n",
              "      <td>0.996075</td>\n",
              "      <td>03:07</td>\n",
              "    </tr>\n",
              "  </tbody>\n",
              "</table>"
            ],
            "text/plain": [
              "<IPython.core.display.HTML object>"
            ]
          },
          "metadata": {
            "tags": []
          }
        }
      ]
    },
    {
      "cell_type": "code",
      "metadata": {
        "id": "s5o89oM5BqoZ"
      },
      "source": [
        ""
      ],
      "execution_count": null,
      "outputs": []
    }
  ]
}