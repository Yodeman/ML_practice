{
 "cells": [
  {
   "cell_type": "code",
   "execution_count": 99,
   "metadata": {},
   "outputs": [],
   "source": [
    "import pandas as pd\n",
    "import numpy as np\n",
    "\n",
    "train_data = pd.read_csv(\"train.csv\")\n",
    "#print(train_data[\"Name\"][:10])\n",
    "test_data = pd.read_csv(\"test.csv\")\n",
    "p_ID = test_data[\"PassengerId\"]\n",
    "train_data['Set']='train'\n",
    "test_data['Set']='test'\n",
    "combined = pd.concat([train_data, test_data], ignore_index=True)\n",
    "#display(combined)"
   ]
  },
  {
   "cell_type": "code",
   "execution_count": 100,
   "metadata": {},
   "outputs": [],
   "source": [
    "combined['Title'] = combined['Name'].str.extract('([A-Za-z]+)\\.', expand=True)\n",
    "#combined['Title'].unique()\n",
    "\n",
    "title_reduction = {'Mr': 'Mr', 'Mrs': 'Mrs', 'Miss': 'Miss', \n",
    "                   'Master': 'Master', 'Don': 'Mr', 'Rev': 'Mr',\n",
    "                   'Dr': 'Mr', 'Mme': 'Miss', 'Ms': 'Miss',\n",
    "                   'Major': 'Mr', 'Lady': 'Mrs', 'Sir': 'Mr',\n",
    "                   'Mlle': 'Miss', 'Col': 'Mr', 'Capt': 'Mr',\n",
    "                   'Countess': 'Mrs','Jonkheer': 'Mr',\n",
    "                   'Dona': 'Mrs'}\n",
    "combined['Title'] = combined['Title'].map(title_reduction)\n",
    "#combined['Title'].unique()\n",
    "pclass = combined.loc[combined.Fare.isnull(), 'Pclass'].values[0]\n",
    "combined.loc[combined.Fare.isnull(), 'Fare'] = combined.loc[combined.Pclass==pclass, 'Fare'].mean()\n",
    "#combined.loc[1043, :]"
   ]
  },
  {
   "cell_type": "code",
   "execution_count": 101,
   "metadata": {},
   "outputs": [
    {
     "name": "stdout",
     "output_type": "stream",
     "text": [
      "12.0 27.0 5.0 33.0 37.0\n"
     ]
    }
   ],
   "source": [
    "avg_girl_age = round(combined[(combined.Title=='Miss')&(combined.Parch!=0)]['Age'].mean())\n",
    "avg_lady_age = round(combined[(combined.Title==\"Miss\") & (combined.Parch==0)]['Age'].mean())\n",
    "avg_boy_age = round(combined[combined.Title=='Master']['Age'].mean())\n",
    "avg_men_age = round(combined[combined.Title=='Mr']['Age'].mean())\n",
    "avg_women_age = round(combined[combined.Title=='Mrs']['Age'].mean())\n",
    "print(avg_girl_age, avg_lady_age, avg_boy_age, avg_men_age, avg_women_age)"
   ]
  },
  {
   "cell_type": "code",
   "execution_count": 102,
   "metadata": {},
   "outputs": [
    {
     "data": {
      "text/html": [
       "<div>\n",
       "<style scoped>\n",
       "    .dataframe tbody tr th:only-of-type {\n",
       "        vertical-align: middle;\n",
       "    }\n",
       "\n",
       "    .dataframe tbody tr th {\n",
       "        vertical-align: top;\n",
       "    }\n",
       "\n",
       "    .dataframe thead th {\n",
       "        text-align: right;\n",
       "    }\n",
       "</style>\n",
       "<table border=\"1\" class=\"dataframe\">\n",
       "  <thead>\n",
       "    <tr style=\"text-align: right;\">\n",
       "      <th></th>\n",
       "      <th>PassengerId</th>\n",
       "      <th>Survived</th>\n",
       "      <th>Pclass</th>\n",
       "      <th>Name</th>\n",
       "      <th>Sex</th>\n",
       "      <th>Age</th>\n",
       "      <th>SibSp</th>\n",
       "      <th>Parch</th>\n",
       "      <th>Ticket</th>\n",
       "      <th>Fare</th>\n",
       "      <th>Cabin</th>\n",
       "      <th>Embarked</th>\n",
       "      <th>Set</th>\n",
       "      <th>Title</th>\n",
       "    </tr>\n",
       "  </thead>\n",
       "  <tbody>\n",
       "  </tbody>\n",
       "</table>\n",
       "</div>"
      ],
      "text/plain": [
       "Empty DataFrame\n",
       "Columns: [PassengerId, Survived, Pclass, Name, Sex, Age, SibSp, Parch, Ticket, Fare, Cabin, Embarked, Set, Title]\n",
       "Index: []"
      ]
     },
     "execution_count": 102,
     "metadata": {},
     "output_type": "execute_result"
    }
   ],
   "source": [
    "#for title, age in combined.groupby('Title')['Age'].mean().iteritems():\n",
    "#    print(title, age)\n",
    "#    combined.loc[(combined.Title==title)&(combined.Age.isnull()), 'Age']=age\n",
    "combined.loc[(combined.Title=='Miss')&(combined.Parch!=0)&(combined.Age.isnull()), 'Age']=avg_girl_age\n",
    "combined.loc[(combined.Title==\"Miss\") & (combined.Parch==0)&(combined.Age.isnull()), 'Age']=avg_lady_age\n",
    "combined.loc[(combined.Title=='Master')&(combined.Age.isnull()), 'Age']=avg_boy_age\n",
    "combined.loc[(combined.Title=='Mr')&(combined.Age.isnull()), 'Age']=avg_men_age\n",
    "combined.loc[(combined.Title=='Mrs')&(combined.Age.isnull()), 'Age']=avg_women_age\n",
    "combined[combined.Age.isnull()]"
   ]
  },
  {
   "cell_type": "code",
   "execution_count": 103,
   "metadata": {},
   "outputs": [],
   "source": [
    "combined = combined.drop(['Name', 'Ticket', 'Cabin', 'Embarked', \"PassengerId\"], axis=1)\n",
    "#combined[\"Age\"] = combined[\"Age\"].apply(lambda x:np.log(x+1))\n",
    "#combined[\"Fare\"] = combined[\"Fare\"].apply(lambda x:np.log(x+1))\n",
    "#from sklearn.preprocessing import MinMaxScaler\n",
    "#model = MinMaxScaler()\n",
    "#print(combined[\"Age\"].shape)\n",
    "#combined[\"Age\"] = model.fit_transform([combined[\"Age\"]])[0, :]\n",
    "#print(encoded.shape)\n",
    "#combined[\"Fare\"] = model.fit_transform([combined[\"Fare\"]])[0, :]"
   ]
  },
  {
   "cell_type": "code",
   "execution_count": 83,
   "metadata": {},
   "outputs": [
    {
     "data": {
      "text/plain": [
       "array([0., 0., 0., ..., 0., 0., 0.])"
      ]
     },
     "execution_count": 83,
     "metadata": {},
     "output_type": "execute_result"
    }
   ],
   "source": [
    "encoded[0, :]"
   ]
  },
  {
   "cell_type": "code",
   "execution_count": 105,
   "metadata": {},
   "outputs": [
    {
     "name": "stdout",
     "output_type": "stream",
     "text": [
      "Accuracy on training set: 0.9820426487093153\n"
     ]
    }
   ],
   "source": [
    "train = combined.loc[combined.Set=='train'].drop('Set', axis=1)\n",
    "test = combined.loc[combined.Set=='test'].drop(['Set', 'Survived'], axis=1)\n",
    "y_train = train['Survived']\n",
    "train = train.drop('Survived', axis=1)\n",
    "\n",
    "from sklearn.tree import DecisionTreeClassifier\n",
    "#from sklearn.linear_model import LogisticRegression\n",
    "clf = DecisionTreeClassifier(max_depth=20, random_state=0)\n",
    "#clf = LogisticRegression(max_iter=1000, random_state=0)\n",
    "clf.fit(pd.get_dummies(train), y_train)\n",
    "predictions = clf.predict(pd.get_dummies(test))\n",
    "\n",
    "print(\"Accuracy on training set: {}\".format(clf.score(pd.get_dummies(train), y_train)))\n",
    "result = pd.DataFrame({'PassengerId':p_ID, 'Survived':predictions}, dtype=int)\n",
    "result.to_csv(\"result1.csv\", index=False)"
   ]
  },
  {
   "cell_type": "code",
   "execution_count": null,
   "metadata": {},
   "outputs": [],
   "source": []
  },
  {
   "cell_type": "code",
   "execution_count": null,
   "metadata": {},
   "outputs": [],
   "source": []
  }
 ],
 "metadata": {
  "kernelspec": {
   "display_name": "Python 3",
   "language": "python",
   "name": "python3"
  },
  "language_info": {
   "codemirror_mode": {
    "name": "ipython",
    "version": 3
   },
   "file_extension": ".py",
   "mimetype": "text/x-python",
   "name": "python",
   "nbconvert_exporter": "python",
   "pygments_lexer": "ipython3",
   "version": "3.7.7"
  }
 },
 "nbformat": 4,
 "nbformat_minor": 4
}
